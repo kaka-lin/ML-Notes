{
 "cells": [
  {
   "cell_type": "markdown",
   "metadata": {},
   "source": [
    "<a href=\"https://colab.research.google.com/github/kaka-lin/ML-Notes/blob/master/TensorFlow/keras/01_classification_mnist_model_subclassing.ipynb\" target=\"_parent\"><img src=\"https://colab.research.google.com/assets/colab-badge.svg\" alt=\"Open In Colab\"/></a>"
   ]
  },
  {
   "cell_type": "markdown",
   "metadata": {},
   "source": [
    "# Post Training Quantization - Dynamic range quantization"
   ]
  },
  {
   "cell_type": "code",
   "execution_count": 1,
   "metadata": {
    "ExecuteTime": {
     "end_time": "2019-10-02T09:49:12.456679Z",
     "start_time": "2019-10-02T09:49:01.312378Z"
    },
    "colab": {
     "base_uri": "https://localhost:8080/"
    },
    "id": "ElDNGFeH5cZg",
    "outputId": "c88e12b7-6454-4722-f958-00b538ba8e79"
   },
   "outputs": [
    {
     "name": "stdout",
     "output_type": "stream",
     "text": [
      "2.9.1\n"
     ]
    }
   ],
   "source": [
    "import os\n",
    "os.environ['TF_CPP_MIN_LOG_LEVEL'] = '2'\n",
    "\n",
    "from tqdm import tqdm\n",
    "import numpy as np\n",
    "import matplotlib.pyplot as plt\n",
    "import tensorflow as tf\n",
    "from tensorflow.keras.layers import Input, Dense, Flatten, Conv2D\n",
    "\n",
    "%matplotlib inline\n",
    "\n",
    "print(tf.__version__)"
   ]
  },
  {
   "cell_type": "markdown",
   "metadata": {
    "id": "Lez4wVqF5cZj"
   },
   "source": [
    "## Load data and preprocess data\n",
    "\n",
    "這邊使用 `MNIST dataset`"
   ]
  },
  {
   "cell_type": "code",
   "execution_count": 2,
   "metadata": {
    "ExecuteTime": {
     "end_time": "2019-10-02T09:49:13.017410Z",
     "start_time": "2019-10-02T09:49:12.458793Z"
    },
    "colab": {
     "base_uri": "https://localhost:8080/"
    },
    "id": "aQAZ7ZcI5cZl",
    "outputId": "2cd5f8a0-617d-4759-9e40-7acdfe444514"
   },
   "outputs": [
    {
     "name": "stdout",
     "output_type": "stream",
     "text": [
      "Training images:  (60000, 28, 28, 1)\n",
      "Training lables:  (60000,)\n",
      "Testing images:  (10000, 28, 28, 1)\n",
      "Testing labels:  (10000,)\n",
      "data type:  <class 'numpy.ndarray'>\n"
     ]
    }
   ],
   "source": [
    "def load_data():\n",
    "    mnist_dataset = tf.keras.datasets.mnist.load_data()\n",
    "    (x_train, y_train), (x_test, y_test) = mnist_dataset\n",
    "    \n",
    "    ### Preprocess the data\n",
    "    # normalization\n",
    "    # scale pixel value from 0:255 to 0:1\n",
    "    x_train = x_train / 255.0\n",
    "    x_test = x_test / 255.0\n",
    "\n",
    "    # Add a channels dimension\n",
    "    x_train = x_train[..., tf.newaxis]\n",
    "    x_test = x_test[..., tf.newaxis]\n",
    "    \n",
    "    return (x_train, y_train), (x_test, y_test)\n",
    "\n",
    "(x_train, y_train), (x_test, y_test) = load_data()\n",
    "\n",
    "print(\"Training images: \", x_train.shape)\n",
    "print(\"Training lables: \", y_train.shape)\n",
    "print(\"Testing images: \", x_test.shape)\n",
    "print(\"Testing labels: \", y_test.shape)\n",
    "print(\"data type: \", type(x_train))"
   ]
  },
  {
   "cell_type": "markdown",
   "metadata": {
    "id": "VGzhVJ_25cZt"
   },
   "source": [
    "## Preprocess the dataset\n",
    "\n",
    "[tf.data.Dataset](https://www.tensorflow.org/versions/r2.0/api_docs/python/tf/data/Dataset?hl=zh_tw)\n",
    "\n",
    "- `from_tensor_silces`: Creates a `Dataset` whose elements are slices of the given tensors. \n",
    "\n",
    "    Args:\n",
    "        shuffle:  uses a fixed-size buffer to shuffle the items as they pass through. \n",
    "        repeat:   restarts the Dataset when it reachs the end.\n",
    "                  To limit the number of epochs, set the count argument.\n",
    "        batch:    collects a number of examples and stacks them, to create batches."
   ]
  },
  {
   "cell_type": "code",
   "execution_count": 3,
   "metadata": {
    "ExecuteTime": {
     "end_time": "2019-10-02T09:49:16.633355Z",
     "start_time": "2019-10-02T09:49:13.452225Z"
    },
    "id": "TjNK92A95cZw"
   },
   "outputs": [],
   "source": [
    "train_dataset = tf.data.Dataset.from_tensor_slices(\n",
    "    (x_train, y_train)).shuffle(10000).batch(32)\n",
    "\n",
    "test_dataset = tf.data.Dataset.from_tensor_slices(\n",
    "    (x_test, y_test)).batch(32)"
   ]
  },
  {
   "cell_type": "markdown",
   "metadata": {
    "heading_collapsed": true,
    "id": "2Ii6GS_D5cZx"
   },
   "source": [
    "## Build the model "
   ]
  },
  {
   "cell_type": "markdown",
   "metadata": {
    "hidden": true,
    "id": "fsmkeFOY5cZy"
   },
   "source": [
    "### Model subclassing\n",
    "\n",
    "使用 `Model subclassing` 建立基本模型"
   ]
  },
  {
   "cell_type": "code",
   "execution_count": 4,
   "metadata": {
    "ExecuteTime": {
     "end_time": "2019-10-02T09:49:16.648823Z",
     "start_time": "2019-10-02T09:49:16.634434Z"
    },
    "hidden": true,
    "id": "FjU2qQzs5cZ0"
   },
   "outputs": [],
   "source": [
    "class MyModel(tf.keras.Model):\n",
    "    def __init__(self):\n",
    "        super(MyModel, self).__init__()\n",
    "        \n",
    "        # Define your layer here\n",
    "        self.conv1 = Conv2D(32, 3, activation='relu')\n",
    "        self.flatten = Flatten()\n",
    "        self.dense1 = Dense(128, activation='relu')\n",
    "        self.dense2 = Dense(10, activation='softmax')\n",
    "    \n",
    "    def call(self, x):\n",
    "        # Define your forward pass here\n",
    "        x = self.conv1(x)\n",
    "        x = self.flatten(x)\n",
    "        x = self.dense1(x)\n",
    "        x = self.dense2(x)\n",
    "        return x"
   ]
  },
  {
   "cell_type": "markdown",
   "metadata": {
    "hidden": true
   },
   "source": [
    "###### Model subclassing using model.summary()\n",
    "\n",
    "- [model.summary() can't print output shape while using subclass model](https://stackoverflow.com/questions/55235212/model-summary-cant-print-output-shape-while-using-subclass-model)\n",
    "- [keras 中 model.summary() 輸出的 output shape 為 multiple 解決辦法](https://blog.csdn.net/qq_42074335/article/details/120443553)"
   ]
  },
  {
   "cell_type": "code",
   "execution_count": 5,
   "metadata": {
    "hidden": true
   },
   "outputs": [
    {
     "name": "stdout",
     "output_type": "stream",
     "text": [
      "Model: \"my_model\"\n",
      "_________________________________________________________________\n",
      " Layer (type)                Output Shape              Param #   \n",
      "=================================================================\n",
      " conv2d (Conv2D)             (None, 26, 26, 32)        320       \n",
      "                                                                 \n",
      " flatten (Flatten)           (None, 21632)             0         \n",
      "                                                                 \n",
      " dense (Dense)               (None, 128)               2769024   \n",
      "                                                                 \n",
      " dense_1 (Dense)             (None, 10)                1290      \n",
      "                                                                 \n",
      "=================================================================\n",
      "Total params: 2,770,634\n",
      "Trainable params: 2,770,634\n",
      "Non-trainable params: 0\n",
      "_________________________________________________________________\n"
     ]
    }
   ],
   "source": [
    "model = MyModel()\n",
    "\n",
    "# If we want to using model.summary()\n",
    "model.build(input_shape=(None, 28, 28, 1))\n",
    "model.call(Input(shape=(28, 28, 1)))\n",
    "model.summary()"
   ]
  },
  {
   "cell_type": "markdown",
   "metadata": {
    "hidden": true,
    "id": "2i04PAdT5cZ2"
   },
   "source": [
    "### Compile the model\n",
    "\n",
    "Before the model is ready for training, it needs a few more setting.\n",
    "\n",
    "These are added during the model's `compile` step:\n",
    "\n",
    "- Loss function\n",
    "- Optimizer\n",
    "- Metrics\n"
   ]
  },
  {
   "cell_type": "code",
   "execution_count": 6,
   "metadata": {
    "ExecuteTime": {
     "end_time": "2019-10-02T09:49:26.678425Z",
     "start_time": "2019-10-02T09:49:16.650552Z"
    },
    "hidden": true,
    "id": "_CyjuNLQ5cZ4"
   },
   "outputs": [],
   "source": [
    "loss_fn = tf.keras.losses.SparseCategoricalCrossentropy()\n",
    "optimizer = tf.keras.optimizers.Adam()\n",
    "\n",
    "train_loss = tf.keras.metrics.Mean(name='train_loss')\n",
    "train_accuracy = tf.keras.metrics.SparseCategoricalAccuracy(name='train_accuracy')\n",
    "test_loss = tf.keras.metrics.Mean(name='test_loss')\n",
    "test_accuracy = tf.keras.metrics.SparseCategoricalAccuracy(name='test_accuracy')"
   ]
  },
  {
   "cell_type": "markdown",
   "metadata": {
    "id": "FQCMk_ce5cZ4"
   },
   "source": [
    "## Training the mode\n",
    "\n",
    "Use [tf.GradientTape](https://www.tensorflow.org/versions/r2.0/api_docs/python/tf/GradientTape?hl=zh_tw)"
   ]
  },
  {
   "cell_type": "code",
   "execution_count": 7,
   "metadata": {
    "ExecuteTime": {
     "end_time": "2019-10-02T09:49:26.689465Z",
     "start_time": "2019-10-02T09:49:26.680649Z"
    },
    "id": "uy6xS-vt5cZ5"
   },
   "outputs": [],
   "source": [
    "@tf.function\n",
    "def train_step(model, x_batch, y_batch, optimizer, loss_fn,\n",
    "               train_loss, train_accuracy):\n",
    "    with tf.GradientTape() as tape:\n",
    "        predictions = model(x_batch, training=True)\n",
    "        loss = loss_fn(y_batch, predictions)\n",
    "\n",
    "    # backward\n",
    "    gradients = tape.gradient(loss, model.trainable_variables)\n",
    "    optimizer.apply_gradients(zip(gradients, model.trainable_variables))\n",
    "    \n",
    "    # Update training metric after batch\n",
    "    train_loss.update_state(loss)\n",
    "    train_accuracy.update_state(y_batch, predictions)"
   ]
  },
  {
   "cell_type": "code",
   "execution_count": 8,
   "metadata": {},
   "outputs": [],
   "source": [
    "@tf.function\n",
    "def test_step(model, x_batch, y_batch, loss_fn,\n",
    "              test_loss, test_accuracy):\n",
    "    # forward\n",
    "    predictions = model(x_batch, training=False)\n",
    "    t_loss = loss_fn(y_batch, predictions)\n",
    "\n",
    "    test_loss.update_state(t_loss)\n",
    "    test_accuracy.update_state(y_batch, predictions)"
   ]
  },
  {
   "cell_type": "code",
   "execution_count": 9,
   "metadata": {
    "ExecuteTime": {
     "end_time": "2019-10-02T09:50:38.918478Z",
     "start_time": "2019-10-02T09:49:26.779391Z"
    },
    "colab": {
     "base_uri": "https://localhost:8080/"
    },
    "id": "7D2gxesm5cZ7",
    "outputId": "2face7b8-7dc5-47dd-8d83-b6b71a143a6b"
   },
   "outputs": [
    {
     "name": "stdout",
     "output_type": "stream",
     "text": [
      "Epoch 1/5\n"
     ]
    },
    {
     "name": "stderr",
     "output_type": "stream",
     "text": [
      "     100%|██████████████████████████████| 1875/1875 [00:05<00:00, 354.60it/s, loss=0.147, accuracy=0.956]\n"
     ]
    },
    {
     "name": "stdout",
     "output_type": "stream",
     "text": [
      "Epoch 2/5\n"
     ]
    },
    {
     "name": "stderr",
     "output_type": "stream",
     "text": [
      "     100%|██████████████████████████████| 1875/1875 [00:04<00:00, 460.89it/s, loss=0.0458, accuracy=0.985]\n"
     ]
    },
    {
     "name": "stdout",
     "output_type": "stream",
     "text": [
      "Epoch 3/5\n"
     ]
    },
    {
     "name": "stderr",
     "output_type": "stream",
     "text": [
      "     100%|██████████████████████████████| 1875/1875 [00:04<00:00, 465.40it/s, loss=0.0256, accuracy=0.992]\n"
     ]
    },
    {
     "name": "stdout",
     "output_type": "stream",
     "text": [
      "Epoch 4/5\n"
     ]
    },
    {
     "name": "stderr",
     "output_type": "stream",
     "text": [
      "     100%|██████████████████████████████| 1875/1875 [00:04<00:00, 453.04it/s, loss=0.0148, accuracy=0.995]\n"
     ]
    },
    {
     "name": "stdout",
     "output_type": "stream",
     "text": [
      "Epoch 5/5\n"
     ]
    },
    {
     "name": "stderr",
     "output_type": "stream",
     "text": [
      "     100%|██████████████████████████████| 1875/1875 [00:04<00:00, 455.06it/s, loss=0.00981, accuracy=0.997]\n",
      "WARNING:absl:Found untraced functions such as _jit_compiled_convolution_op while saving (showing 1 of 1). These functions will not be directly callable after loading.\n"
     ]
    },
    {
     "name": "stdout",
     "output_type": "stream",
     "text": [
      "INFO:tensorflow:Assets written to: model_data/baseline_model/assets\n"
     ]
    },
    {
     "name": "stderr",
     "output_type": "stream",
     "text": [
      "INFO:tensorflow:Assets written to: model_data/baseline_model/assets\n"
     ]
    }
   ],
   "source": [
    "#tf.keras.backend.set_floatx('float64')\n",
    "\n",
    "EPOCHS = 5\n",
    "n_batches = len(train_dataset)\n",
    "for epoch in range(EPOCHS):\n",
    "    print(f'Epoch {epoch+1}/{EPOCHS}')\n",
    "    with tqdm(train_dataset, total=n_batches,\n",
    "              bar_format='{desc:<5.5}{percentage:3.0f}%|{bar:30}{r_bar}') as pbar:\n",
    "        for batch, (x_train, y_train) in enumerate(pbar):\n",
    "            train_step(model, x_train, y_train, optimizer, loss_fn,\n",
    "                       train_loss, train_accuracy)\n",
    "            pbar.set_postfix({\n",
    "                'loss': train_loss.result().numpy(),\n",
    "                'accuracy': train_accuracy.result().numpy()})\n",
    "    \n",
    "    # Reset the metrics at the start of the next epoch\n",
    "    train_loss.reset_states()\n",
    "    train_accuracy.reset_states()\n",
    "    \n",
    "# save model\n",
    "model.save('model_data/baseline_model')"
   ]
  },
  {
   "cell_type": "markdown",
   "metadata": {},
   "source": [
    "## Conver to TFLite model"
   ]
  },
  {
   "cell_type": "code",
   "execution_count": 10,
   "metadata": {},
   "outputs": [],
   "source": [
    "# Convert the model\n",
    "converter = tf.lite.TFLiteConverter.from_saved_model('model_data/baseline_model')                                          \n",
    "tflite_model = converter.convert()\n",
    "\n",
    "# Save the model.\n",
    "with open('model_data/model.tflite', 'wb') as f:\n",
    "    f.write(tflite_model)"
   ]
  },
  {
   "cell_type": "code",
   "execution_count": 11,
   "metadata": {},
   "outputs": [],
   "source": [
    "def evaluate_model(interpreter):\n",
    "    input_index = interpreter.get_input_details()[0][\"index\"]\n",
    "    output_index = interpreter.get_output_details()[0][\"index\"]\n",
    "    \n",
    "    # Run predictions on every image in the \"test\" dataset.\n",
    "    prediction_digits = []\n",
    "    for test_image in x_test:\n",
    "        # Pre-processing: add batch dimension and convert to float32 to match with\n",
    "        # the model's input data format.\n",
    "        test_image = np.expand_dims(test_image, axis=0).astype(np.float32)\n",
    "        interpreter.set_tensor(input_index, test_image)\n",
    "        \n",
    "        # Run inference.\n",
    "        interpreter.invoke()\n",
    "        \n",
    "        # Post-processing: remove batch dimension and find the digit with highest\n",
    "        # probability.\n",
    "        output = interpreter.tensor(output_index)\n",
    "        digit = np.argmax(output()[0])\n",
    "        prediction_digits.append(digit)\n",
    "    \n",
    "    # Compare prediction results with ground truth labels to calculate accuracy.\n",
    "    accurate_count = 0\n",
    "    for index in range(len(prediction_digits)):\n",
    "        if prediction_digits[index] == y_test[index]:\n",
    "            accurate_count += 1\n",
    "    accuracy = accurate_count * 1.0 / len(prediction_digits)\n",
    "\n",
    "    return accuracy"
   ]
  },
  {
   "cell_type": "code",
   "execution_count": 12,
   "metadata": {},
   "outputs": [
    {
     "name": "stderr",
     "output_type": "stream",
     "text": [
      "INFO: Created TensorFlow Lite XNNPACK delegate for CPU.\n"
     ]
    },
    {
     "name": "stdout",
     "output_type": "stream",
     "text": [
      "0.984\n"
     ]
    }
   ],
   "source": [
    "# Load the model into the interpreters\n",
    "interpreter = tf.lite.Interpreter(model_path=str('model_data/model.tflite'))\n",
    "interpreter.allocate_tensors()\n",
    "\n",
    "# evaluate the TF Lite model\n",
    "print(evaluate_model(interpreter))"
   ]
  },
  {
   "cell_type": "code",
   "execution_count": null,
   "metadata": {},
   "outputs": [],
   "source": []
  }
 ],
 "metadata": {
  "accelerator": "GPU",
  "colab": {
   "provenance": []
  },
  "gpuClass": "standard",
  "kernelspec": {
   "display_name": "Python 3 (ipykernel)",
   "language": "python",
   "name": "python3"
  },
  "language_info": {
   "codemirror_mode": {
    "name": "ipython",
    "version": 3
   },
   "file_extension": ".py",
   "mimetype": "text/x-python",
   "name": "python",
   "nbconvert_exporter": "python",
   "pygments_lexer": "ipython3",
   "version": "3.8.13"
  },
  "latex_envs": {
   "LaTeX_envs_menu_present": true,
   "autoclose": false,
   "autocomplete": true,
   "bibliofile": "biblio.bib",
   "cite_by": "apalike",
   "current_citInitial": 1,
   "eqLabelWithNumbers": true,
   "eqNumInitial": 1,
   "hotkeys": {
    "equation": "Ctrl-E",
    "itemize": "Ctrl-I"
   },
   "labels_anchors": false,
   "latex_user_defs": false,
   "report_style_numbering": false,
   "user_envs_cfg": false
  },
  "toc": {
   "base_numbering": 1,
   "nav_menu": {},
   "number_sections": true,
   "sideBar": true,
   "skip_h1_title": false,
   "title_cell": "Table of Contents",
   "title_sidebar": "Contents",
   "toc_cell": false,
   "toc_position": {
    "height": "calc(100% - 180px)",
    "left": "10px",
    "top": "150px",
    "width": "338.188px"
   },
   "toc_section_display": true,
   "toc_window_display": false
  }
 },
 "nbformat": 4,
 "nbformat_minor": 1
}
