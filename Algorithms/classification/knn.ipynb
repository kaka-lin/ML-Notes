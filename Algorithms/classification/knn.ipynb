{
 "cells": [
  {
   "cell_type": "markdown",
   "metadata": {},
   "source": [
    "# K-Nearest Neighbors (KNN)\n",
    "\n",
    "[k-nearest neighbors algorithm (k-NN)](https://en.wikipedia.org/wiki/K-nearest_neighbors_algorithm) is a `non-parametric` `supervised learning` method, \n",
    "its used for `classification` and `regression`.\n",
    "\n",
    "簡單來說，就是物以類聚的概念。如果你的鄰居10戶有8戶是有錢人，那你十之八九也是有錢人! \n",
    "KNN用途很廣，適用於`離散型資料`，也適用於`連續型資料`。\n",
    "\n",
    "```\n",
    "概念與「近朱者赤，近墨者黑」相同」。用周圍資料決定其分類\n",
    "```\n",
    "\n",
    "參考: [PyInvest: K-近鄰演算法 KNN](https://www.youtube.com/watch?v=RWvM-9V3UzY)"
   ]
  },
  {
   "cell_type": "markdown",
   "metadata": {},
   "source": [
    "## KNN 的運作模式\n",
    "\n",
    "找到距離最近的K個鄰居→進行投票→決定類別\n",
    "\n",
    "主要運作模式分為3步驟:\n",
    "\n",
    "1. 計算每個點之間的距離\n",
    "2. 用K值決定鄰居數目，並進行投票 (在連續型資料中，則是計算平均數)\n",
    "3. 以投票結果決定類別"
   ]
  },
  {
   "cell_type": "markdown",
   "metadata": {
    "ExecuteTime": {
     "end_time": "2019-11-23T09:09:45.474756Z",
     "start_time": "2019-11-23T09:09:45.469430Z"
    }
   },
   "source": [
    "## Import all necessary libraries"
   ]
  },
  {
   "cell_type": "code",
   "execution_count": 1,
   "metadata": {
    "ExecuteTime": {
     "end_time": "2019-11-23T17:56:50.778783Z",
     "start_time": "2019-11-23T17:56:48.431849Z"
    }
   },
   "outputs": [],
   "source": [
    "import numpy as np\n",
    "import pandas as pd\n",
    "import pandas as pd\n",
    "import seaborn as sns\n",
    "import matplotlib.pyplot as plt\n",
    "from sklearn import metrics\n",
    "from sklearn import datasets\n",
    "from sklearn.neighbors import KNeighborsClassifier\n",
    "from sklearn.model_selection import train_test_split\n",
    "\n",
    "%matplotlib inline"
   ]
  },
  {
   "cell_type": "markdown",
   "metadata": {},
   "source": [
    "## Import Data"
   ]
  },
  {
   "cell_type": "code",
   "execution_count": 2,
   "metadata": {
    "ExecuteTime": {
     "end_time": "2019-11-23T17:56:50.789810Z",
     "start_time": "2019-11-23T17:56:50.781374Z"
    }
   },
   "outputs": [
    {
     "data": {
      "text/html": [
       "<div>\n",
       "<style scoped>\n",
       "    .dataframe tbody tr th:only-of-type {\n",
       "        vertical-align: middle;\n",
       "    }\n",
       "\n",
       "    .dataframe tbody tr th {\n",
       "        vertical-align: top;\n",
       "    }\n",
       "\n",
       "    .dataframe thead th {\n",
       "        text-align: right;\n",
       "    }\n",
       "</style>\n",
       "<table border=\"1\" class=\"dataframe\">\n",
       "  <thead>\n",
       "    <tr style=\"text-align: right;\">\n",
       "      <th></th>\n",
       "      <th>SepalLengthCm</th>\n",
       "      <th>SepalWidthCm</th>\n",
       "      <th>PetalLengthCm</th>\n",
       "      <th>PetalWidthCm</th>\n",
       "      <th>Species</th>\n",
       "    </tr>\n",
       "  </thead>\n",
       "  <tbody>\n",
       "    <tr>\n",
       "      <th>0</th>\n",
       "      <td>5.1</td>\n",
       "      <td>3.5</td>\n",
       "      <td>1.4</td>\n",
       "      <td>0.2</td>\n",
       "      <td>0.0</td>\n",
       "    </tr>\n",
       "    <tr>\n",
       "      <th>1</th>\n",
       "      <td>4.9</td>\n",
       "      <td>3.0</td>\n",
       "      <td>1.4</td>\n",
       "      <td>0.2</td>\n",
       "      <td>0.0</td>\n",
       "    </tr>\n",
       "    <tr>\n",
       "      <th>2</th>\n",
       "      <td>4.7</td>\n",
       "      <td>3.2</td>\n",
       "      <td>1.3</td>\n",
       "      <td>0.2</td>\n",
       "      <td>0.0</td>\n",
       "    </tr>\n",
       "    <tr>\n",
       "      <th>3</th>\n",
       "      <td>4.6</td>\n",
       "      <td>3.1</td>\n",
       "      <td>1.5</td>\n",
       "      <td>0.2</td>\n",
       "      <td>0.0</td>\n",
       "    </tr>\n",
       "    <tr>\n",
       "      <th>4</th>\n",
       "      <td>5.0</td>\n",
       "      <td>3.6</td>\n",
       "      <td>1.4</td>\n",
       "      <td>0.2</td>\n",
       "      <td>0.0</td>\n",
       "    </tr>\n",
       "    <tr>\n",
       "      <th>...</th>\n",
       "      <td>...</td>\n",
       "      <td>...</td>\n",
       "      <td>...</td>\n",
       "      <td>...</td>\n",
       "      <td>...</td>\n",
       "    </tr>\n",
       "    <tr>\n",
       "      <th>145</th>\n",
       "      <td>6.7</td>\n",
       "      <td>3.0</td>\n",
       "      <td>5.2</td>\n",
       "      <td>2.3</td>\n",
       "      <td>2.0</td>\n",
       "    </tr>\n",
       "    <tr>\n",
       "      <th>146</th>\n",
       "      <td>6.3</td>\n",
       "      <td>2.5</td>\n",
       "      <td>5.0</td>\n",
       "      <td>1.9</td>\n",
       "      <td>2.0</td>\n",
       "    </tr>\n",
       "    <tr>\n",
       "      <th>147</th>\n",
       "      <td>6.5</td>\n",
       "      <td>3.0</td>\n",
       "      <td>5.2</td>\n",
       "      <td>2.0</td>\n",
       "      <td>2.0</td>\n",
       "    </tr>\n",
       "    <tr>\n",
       "      <th>148</th>\n",
       "      <td>6.2</td>\n",
       "      <td>3.4</td>\n",
       "      <td>5.4</td>\n",
       "      <td>2.3</td>\n",
       "      <td>2.0</td>\n",
       "    </tr>\n",
       "    <tr>\n",
       "      <th>149</th>\n",
       "      <td>5.9</td>\n",
       "      <td>3.0</td>\n",
       "      <td>5.1</td>\n",
       "      <td>1.8</td>\n",
       "      <td>2.0</td>\n",
       "    </tr>\n",
       "  </tbody>\n",
       "</table>\n",
       "<p>150 rows × 5 columns</p>\n",
       "</div>"
      ],
      "text/plain": [
       "     SepalLengthCm  SepalWidthCm  PetalLengthCm  PetalWidthCm  Species\n",
       "0              5.1           3.5            1.4           0.2      0.0\n",
       "1              4.9           3.0            1.4           0.2      0.0\n",
       "2              4.7           3.2            1.3           0.2      0.0\n",
       "3              4.6           3.1            1.5           0.2      0.0\n",
       "4              5.0           3.6            1.4           0.2      0.0\n",
       "..             ...           ...            ...           ...      ...\n",
       "145            6.7           3.0            5.2           2.3      2.0\n",
       "146            6.3           2.5            5.0           1.9      2.0\n",
       "147            6.5           3.0            5.2           2.0      2.0\n",
       "148            6.2           3.4            5.4           2.3      2.0\n",
       "149            5.9           3.0            5.1           1.8      2.0\n",
       "\n",
       "[150 rows x 5 columns]"
      ]
     },
     "execution_count": 2,
     "metadata": {},
     "output_type": "execute_result"
    }
   ],
   "source": [
    "iris=datasets.load_iris()\n",
    "df_data = pd.DataFrame(data= np.c_[iris['data'], iris['target']],\n",
    "                       columns= ['SepalLengthCm','SepalWidthCm','PetalLengthCm','PetalWidthCm','Species'])\n",
    "df_data"
   ]
  },
  {
   "cell_type": "markdown",
   "metadata": {},
   "source": [
    "## Splitting training and testing dataset"
   ]
  },
  {
   "cell_type": "code",
   "execution_count": 3,
   "metadata": {},
   "outputs": [
    {
     "name": "stdout",
     "output_type": "stream",
     "text": [
      "train shape: (105, 4)\n",
      "test shape: (45, 4)\n"
     ]
    }
   ],
   "source": [
    "X = df_data.drop(labels=['Species'], axis=1).values # iris.data\n",
    "Y = df_data['Species'].values # iris.target\n",
    "\n",
    "#x_train, x_test, y_train, y_test = train_test_split(X, Y, test_size=0.3, random_state=1)\n",
    "x_train, x_test, y_train, y_test = train_test_split(X, Y, test_size=0.3, random_state=42, stratify=Y)\n",
    "\n",
    "print('train shape:', x_train.shape)\n",
    "print('test shape:', x_test.shape)"
   ]
  },
  {
   "cell_type": "markdown",
   "metadata": {},
   "source": [
    "## k-nearest neighbors(KNN) model\n",
    "\n",
    "[sklearn.neighbors.KNeighborsClassifier](https://scikit-learn.org/stable/modules/generated/sklearn.neighbors.KNeighborsClassifier.html)\n",
    "\n",
    "- Parameters:\n",
    "    - n_neighbors: 設定鄰居的數量(k)，選取最近的k個點，預設為 `5`。\n",
    "    - weights: 投票方式為一樣權重或加權，預設 `uniform`\n",
    "      - `uniform`: All points in each neighborhood are weighted equally\n",
    "      - `distance`: weight points by the inverse of their distanc (越近越重要)\n",
    "    - p: 選擇距離的計算方式，預設 `2`\n",
    "      - Power parameter for the `Minkowski metric (明氏距離)`\n",
    "        - `p = 1`: `Manhattan Distance (曼哈頓距離)`\n",
    "        - `p = 2`: `Euclidean Distance (歐基里德距離)`\n",
    "    - algorithm: 搜尋演算法的選擇(計算效率的考慮)，預設 `auto`\n",
    "      - '[ball_tree](https://scikit-learn.org/stable/modules/generated/sklearn.neighbors.BallTree.html#sklearn.neighbors.BallTree)'\n",
    "      - '[kd_tree](https://scikit-learn.org/stable/modules/generated/sklearn.neighbors.KDTree.html#sklearn.neighbors.KDTree)'\n",
    "      - 'brute'\n",
    "      - 'auto'\n",
    "    - metric: 計算距離的方式，預設為`歐幾里得距離`。\n",
    "\n",
    "- Attributes:\n",
    "    - classes_: Class labels known to the classifier\n",
    "    - effective_metric_: 取得計算距離的公式。\n"
   ]
  },
  {
   "cell_type": "code",
   "execution_count": 4,
   "metadata": {
    "ExecuteTime": {
     "end_time": "2019-11-23T17:56:52.610715Z",
     "start_time": "2019-11-23T17:56:51.532566Z"
    }
   },
   "outputs": [
    {
     "data": {
      "text/html": [
       "<style>#sk-container-id-1 {color: black;background-color: white;}#sk-container-id-1 pre{padding: 0;}#sk-container-id-1 div.sk-toggleable {background-color: white;}#sk-container-id-1 label.sk-toggleable__label {cursor: pointer;display: block;width: 100%;margin-bottom: 0;padding: 0.3em;box-sizing: border-box;text-align: center;}#sk-container-id-1 label.sk-toggleable__label-arrow:before {content: \"▸\";float: left;margin-right: 0.25em;color: #696969;}#sk-container-id-1 label.sk-toggleable__label-arrow:hover:before {color: black;}#sk-container-id-1 div.sk-estimator:hover label.sk-toggleable__label-arrow:before {color: black;}#sk-container-id-1 div.sk-toggleable__content {max-height: 0;max-width: 0;overflow: hidden;text-align: left;background-color: #f0f8ff;}#sk-container-id-1 div.sk-toggleable__content pre {margin: 0.2em;color: black;border-radius: 0.25em;background-color: #f0f8ff;}#sk-container-id-1 input.sk-toggleable__control:checked~div.sk-toggleable__content {max-height: 200px;max-width: 100%;overflow: auto;}#sk-container-id-1 input.sk-toggleable__control:checked~label.sk-toggleable__label-arrow:before {content: \"▾\";}#sk-container-id-1 div.sk-estimator input.sk-toggleable__control:checked~label.sk-toggleable__label {background-color: #d4ebff;}#sk-container-id-1 div.sk-label input.sk-toggleable__control:checked~label.sk-toggleable__label {background-color: #d4ebff;}#sk-container-id-1 input.sk-hidden--visually {border: 0;clip: rect(1px 1px 1px 1px);clip: rect(1px, 1px, 1px, 1px);height: 1px;margin: -1px;overflow: hidden;padding: 0;position: absolute;width: 1px;}#sk-container-id-1 div.sk-estimator {font-family: monospace;background-color: #f0f8ff;border: 1px dotted black;border-radius: 0.25em;box-sizing: border-box;margin-bottom: 0.5em;}#sk-container-id-1 div.sk-estimator:hover {background-color: #d4ebff;}#sk-container-id-1 div.sk-parallel-item::after {content: \"\";width: 100%;border-bottom: 1px solid gray;flex-grow: 1;}#sk-container-id-1 div.sk-label:hover label.sk-toggleable__label {background-color: #d4ebff;}#sk-container-id-1 div.sk-serial::before {content: \"\";position: absolute;border-left: 1px solid gray;box-sizing: border-box;top: 0;bottom: 0;left: 50%;z-index: 0;}#sk-container-id-1 div.sk-serial {display: flex;flex-direction: column;align-items: center;background-color: white;padding-right: 0.2em;padding-left: 0.2em;position: relative;}#sk-container-id-1 div.sk-item {position: relative;z-index: 1;}#sk-container-id-1 div.sk-parallel {display: flex;align-items: stretch;justify-content: center;background-color: white;position: relative;}#sk-container-id-1 div.sk-item::before, #sk-container-id-1 div.sk-parallel-item::before {content: \"\";position: absolute;border-left: 1px solid gray;box-sizing: border-box;top: 0;bottom: 0;left: 50%;z-index: -1;}#sk-container-id-1 div.sk-parallel-item {display: flex;flex-direction: column;z-index: 1;position: relative;background-color: white;}#sk-container-id-1 div.sk-parallel-item:first-child::after {align-self: flex-end;width: 50%;}#sk-container-id-1 div.sk-parallel-item:last-child::after {align-self: flex-start;width: 50%;}#sk-container-id-1 div.sk-parallel-item:only-child::after {width: 0;}#sk-container-id-1 div.sk-dashed-wrapped {border: 1px dashed gray;margin: 0 0.4em 0.5em 0.4em;box-sizing: border-box;padding-bottom: 0.4em;background-color: white;}#sk-container-id-1 div.sk-label label {font-family: monospace;font-weight: bold;display: inline-block;line-height: 1.2em;}#sk-container-id-1 div.sk-label-container {text-align: center;}#sk-container-id-1 div.sk-container {/* jupyter's `normalize.less` sets `[hidden] { display: none; }` but bootstrap.min.css set `[hidden] { display: none !important; }` so we also need the `!important` here to be able to override the default hidden behavior on the sphinx rendered scikit-learn.org. See: https://github.com/scikit-learn/scikit-learn/issues/21755 */display: inline-block !important;position: relative;}#sk-container-id-1 div.sk-text-repr-fallback {display: none;}</style><div id=\"sk-container-id-1\" class=\"sk-top-container\"><div class=\"sk-text-repr-fallback\"><pre>KNeighborsClassifier(n_neighbors=3)</pre><b>In a Jupyter environment, please rerun this cell to show the HTML representation or trust the notebook. <br />On GitHub, the HTML representation is unable to render, please try loading this page with nbviewer.org.</b></div><div class=\"sk-container\" hidden><div class=\"sk-item\"><div class=\"sk-estimator sk-toggleable\"><input class=\"sk-toggleable__control sk-hidden--visually\" id=\"sk-estimator-id-1\" type=\"checkbox\" checked><label for=\"sk-estimator-id-1\" class=\"sk-toggleable__label sk-toggleable__label-arrow\">KNeighborsClassifier</label><div class=\"sk-toggleable__content\"><pre>KNeighborsClassifier(n_neighbors=3)</pre></div></div></div></div></div>"
      ],
      "text/plain": [
       "KNeighborsClassifier(n_neighbors=3)"
      ]
     },
     "execution_count": 4,
     "metadata": {},
     "output_type": "execute_result"
    }
   ],
   "source": [
    "# Build KNN model\n",
    "model = KNeighborsClassifier(n_neighbors=3)\n",
    "model.fit(x_train, y_train)"
   ]
  },
  {
   "cell_type": "markdown",
   "metadata": {},
   "source": [
    "## 預測 (Predict)"
   ]
  },
  {
   "cell_type": "code",
   "execution_count": 5,
   "metadata": {},
   "outputs": [
    {
     "data": {
      "text/plain": [
       "array([2., 1., 1., 1., 2., 2., 1., 1., 0., 2., 0., 0., 2., 2., 0., 2., 1.,\n",
       "       0., 0., 0., 1., 0., 1., 2., 2., 1., 1., 1., 1., 0., 2., 2., 1., 0.,\n",
       "       2., 0., 0., 0., 0., 1., 1., 0., 1., 2., 1.])"
      ]
     },
     "execution_count": 5,
     "metadata": {},
     "output_type": "execute_result"
    }
   ],
   "source": [
    "y_pred = model.predict(x_test)\n",
    "y_pred"
   ]
  },
  {
   "cell_type": "markdown",
   "metadata": {},
   "source": [
    "## 使用 Score 評估模型\n",
    "\n",
    "我們可以直接呼叫 `score()` 直接計算模型預測的準確率。"
   ]
  },
  {
   "cell_type": "code",
   "execution_count": 6,
   "metadata": {},
   "outputs": [
    {
     "name": "stdout",
     "output_type": "stream",
     "text": [
      "準確度:  0.9555555555555556\n"
     ]
    }
   ],
   "source": [
    "print('準確度: ', model.score(x_test, y_test))"
   ]
  },
  {
   "cell_type": "markdown",
   "metadata": {},
   "source": [
    "## Visualizing Predictions vs Ground Truths\n",
    "\n",
    "Using [seaborn.lmplot](https://seaborn.pydata.org/generated/seaborn.lmplot.html)\n"
   ]
  },
  {
   "cell_type": "code",
   "execution_count": 7,
   "metadata": {},
   "outputs": [
    {
     "data": {
      "text/plain": [
       "<matplotlib.legend.Legend at 0x146ad4ee0>"
      ]
     },
     "execution_count": 7,
     "metadata": {},
     "output_type": "execute_result"
    },
    {
     "data": {
      "image/png": "[encoded data removed]",
      "text/plain": [
       "<Figure size 720x360 with 2 Axes>"
      ]
     },
     "metadata": {
      "needs_background": "light"
     },
     "output_type": "display_data"
    }
   ],
   "source": [
    "# build the DataFrame of testing set\n",
    "# 為了將真實結果與預測結果放在同一張圖\n",
    "# 所以我們將 df_test 分成兩部分\n",
    "\n",
    "# Part 1: data part\n",
    "df_test1 = pd.DataFrame(x_test, columns= ['SepalLengthCm','SepalWidthCm','PetalLengthCm','PetalWidthCm'])\n",
    "df_test1 = df_test1.drop(labels=['SepalLengthCm','SepalWidthCm'], axis=1)\n",
    "\n",
    "# Part 2: label part\n",
    "# Because we need to plot with `truth` and `predict` in same figure,\n",
    "# so we change columes to rows\n",
    "df_test2 = pd.DataFrame(y_test, columns=['True Species'])\n",
    "df_test2['Predict Species'] = y_pred\n",
    "df_test2 = (\n",
    "    df_test2.stack() # pull the columns into row variables   \n",
    "            .to_frame() # convert the resulting Series to a DataFrame\n",
    "            .reset_index() # pull the resulting MultiIndex into the columns\n",
    "            .rename(columns={'level_0':'idx', 'level_1':'label', 0: 'val'}) # rename the unnamed column\n",
    ")\n",
    "\n",
    "# Merge two DataFrame by index\n",
    "df_test = pd.merge(df_test1, df_test2, left_index=True, right_on=\"idx\")\n",
    "#print(df_test)\n",
    "\n",
    "# 左邊的是測試集的真實分類，右邊的是模型預測的分類結果。\n",
    "sns.lmplot(x='PetalLengthCm', y='PetalWidthCm', hue='val', col='label',\n",
    "           data=df_test, fit_reg=False, legend=False)\n",
    "plt.legend(title='target', loc='upper left', \n",
    "           labels=['Iris-Setosa', 'Iris-Versicolour', 'Iris-Virginica'])\n"
   ]
  },
  {
   "cell_type": "markdown",
   "metadata": {},
   "source": [
    "## 尋找合適的 K 值\n",
    "\n",
    "- 一般來說，我們會盡量選擇K為奇數，以避免平手的情況\n",
    "- 最大預設在樣本數的平方根\n"
   ]
  },
  {
   "cell_type": "code",
   "execution_count": 8,
   "metadata": {},
   "outputs": [
    {
     "data": {
      "text/plain": [
       "105"
      ]
     },
     "execution_count": 8,
     "metadata": {},
     "output_type": "execute_result"
    }
   ],
   "source": [
    "len(x_train)"
   ]
  },
  {
   "cell_type": "code",
   "execution_count": 9,
   "metadata": {},
   "outputs": [
    {
     "data": {
      "text/plain": [
       "[<matplotlib.lines.Line2D at 0x14740ab50>]"
      ]
     },
     "execution_count": 9,
     "metadata": {},
     "output_type": "execute_result"
    },
    {
     "data": {
      "image/png": "[encoded data removed]",
      "text/plain": [
       "<Figure size 432x288 with 1 Axes>"
      ]
     },
     "metadata": {
      "needs_background": "light"
     },
     "output_type": "display_data"
    }
   ],
   "source": [
    "accuracy = []\n",
    "\n",
    "for k in range(1, 100):\n",
    "    knn = KNeighborsClassifier(n_neighbors=k)\n",
    "    knn.fit(x_train, y_train)\n",
    "    y_pred = knn.predict(x_test)\n",
    "    accuracy.append(metrics.accuracy_score(y_test, y_pred))\n",
    "\n",
    "k_range = range(1, 100)\n",
    "plt.plot(k_range, accuracy)"
   ]
  },
  {
   "cell_type": "markdown",
   "metadata": {},
   "source": [
    "# [Option] Implementing the KNN Classification\n",
    "\n",
    "## Algorithm\n",
    "\n",
    "The KNN algorithm is as follows:\n",
    "\n",
    "1. 每一個測試資料點，計算它跟其他所有訓練或目標資料的距離\n",
    "2. 找出距離最近的k個資料點 (Retrieve the indices of the k-nearest neighbors)\n",
    "3. 找出k個資料點相對應得類別標籤(class label)，並返回多數的標籤-> `投票(vote)`\n",
    "\n",
    "#### Notes\n",
    "\n",
    "當數據量很大時，需要計算每個點之間的距離，並且找出最近的K個點，計算量非常大 -> (`Brute Force`)\n",
    "\n",
    "可以使用 [Ball Tree](https://scikit-learn.org/stable/modules/neighbors.html#ball-tree) 或 [KD Tree](https://scikit-learn.org/stable/modules/neighbors.html#kd-tree) 來實作"
   ]
  },
  {
   "cell_type": "code",
   "execution_count": 10,
   "metadata": {},
   "outputs": [],
   "source": [
    "from collections import Counter\n",
    "\n",
    "# like KNeighborsClassifier()\n",
    "class KNNclassifier():\n",
    "    def __init__(self, n_neighbors=5, p=2):\n",
    "        \"\"\"\n",
    "        param n_neighbors: 鄰近K個點。\n",
    "        param p: 距離度量。\n",
    "                 (Σ|xi-yi|^p)^(1/p)\n",
    "                 p = 1: Manhattan Distance Σ|xi-yi|\n",
    "                 p = 2: Euclidean Distance (Σ|xi-yi|^2)^(1/2)\n",
    "        \"\"\"\n",
    "        self.n_neighbors = n_neighbors\n",
    "        self.p = p\n",
    "        \n",
    "    def _compute_distances(self, x):\n",
    "        \"\"\"\n",
    "        parama x: the point who we want calculate distance\n",
    "        parama dataset: testing data\n",
    "        \"\"\"\n",
    "        distances = []\n",
    "        if self.p == 2:\n",
    "            distances = self._euclidean_distance(x)\n",
    "        return distances\n",
    "    \n",
    "    # Calculate the Euclidean distance.\n",
    "    def _euclidean_distance(self, x):\n",
    "        distances = []\n",
    "        for y in self.X_train:\n",
    "            dist = np.linalg.norm(x - y, ord=2)\n",
    "            distances.append(dist)\n",
    "        return distances\n",
    "    \n",
    "    # Retrieve the indices of the k-nearest neighbors.\n",
    "    def _get_neighbors_idx(self, distances, k):\n",
    "        \"\"\"\n",
    "        param neighbors_idx: indices of k-nearest neighbors \n",
    "        \"\"\"\n",
    "        # get indices of k-nearest neighbors -> k-smallest distances\n",
    "        neighbors_idx = np.argsort(distances)[:k]\n",
    "        return neighbors_idx\n",
    "\n",
    "    # votes:\n",
    "    #   1. get the corresponding class labels \n",
    "    #   2. return the most-common label.\n",
    "    def _votes(self, neighbors_idx):\n",
    "        # get corresponding y-labels of training data\n",
    "        labels = [self.y_train[idx] for idx in neighbors_idx]\n",
    "        # return most-common label\n",
    "        return np.argmax(np.bincount(labels))\n",
    "    \n",
    "    def fit(self, X, y):\n",
    "        self.X_train = X\n",
    "        self.y_train = y\n",
    "    \n",
    "    # Predict the class labels for the provided data.\n",
    "    def predict(self, X):\n",
    "        y_pred = []\n",
    "        for x in X:\n",
    "            distances = self._compute_distances(x)\n",
    "            neighbors_idx = self._get_neighbors_idx(distances, self.n_neighbors)\n",
    "            label = self._votes(neighbors_idx)\n",
    "            y_pred.append(label)\n",
    "        y_pred = np.array(y_pred, dtype=np.float64)\n",
    "        return y_pred\n",
    "    \n",
    "    def score(self, X, y):\n",
    "        y_pred = self.predict(X)\n",
    "        accuracy = np.sum(y == y_pred) / len(y)\n",
    "        return accuracy"
   ]
  },
  {
   "cell_type": "code",
   "execution_count": 11,
   "metadata": {},
   "outputs": [
    {
     "name": "stdout",
     "output_type": "stream",
     "text": [
      "準確度:  0.9555555555555556\n"
     ]
    }
   ],
   "source": [
    "kmodel = KNNclassifier(n_neighbors=3)\n",
    "kmodel.fit(x_train, y_train)\n",
    "y_pred = kmodel.predict(x_test)\n",
    "print('準確度: ', model.score(x_test, y_test))"
   ]
  },
  {
   "cell_type": "markdown",
   "metadata": {},
   "source": [
    "## Visualizing Predictions vs Ground Truths"
   ]
  },
  {
   "cell_type": "code",
   "execution_count": 12,
   "metadata": {},
   "outputs": [],
   "source": [
    "def plot_results(x_test, y_test, y_pred):\n",
    "    # Part 1: data part\n",
    "    df_test1 = pd.DataFrame(x_test, columns= ['SepalLengthCm','SepalWidthCm','PetalLengthCm','PetalWidthCm'])\n",
    "    df_test1 = df_test1.drop(labels=['SepalLengthCm','SepalWidthCm'], axis=1)\n",
    "\n",
    "    # Part 2: label part\n",
    "    # Because we need to plot with `truth` and `predict` in same figure,\n",
    "    # so we change columes to rows\n",
    "    df_test2 = pd.DataFrame(y_test, columns=['True Species'])\n",
    "    df_test2['Predict Species'] = y_pred\n",
    "    df_test2 = (\n",
    "        df_test2.stack() # pull the columns into row variables   \n",
    "                .to_frame() # convert the resulting Series to a DataFrame\n",
    "                .reset_index() # pull the resulting MultiIndex into the columns\n",
    "                .rename(columns={'level_0':'idx', 'level_1':'label', 0: 'val'}) # rename the unnamed column\n",
    "    )\n",
    "\n",
    "    # Merge two DataFrame by index\n",
    "    df_test = pd.merge(df_test1, df_test2, left_index=True, right_on=\"idx\")\n",
    "\n",
    "    # 左邊的是測試集的真實分類，右邊的是模型預測的分類結果。\n",
    "    sns.lmplot(x='PetalLengthCm', y='PetalWidthCm', hue='val', col='label',\n",
    "            data=df_test, fit_reg=False, legend=False)\n",
    "    plt.legend(title='target', loc='upper left', \n",
    "            labels=['Iris-Setosa', 'Iris-Versicolour', 'Iris-Virginica'])"
   ]
  },
  {
   "cell_type": "code",
   "execution_count": 13,
   "metadata": {},
   "outputs": [
    {
     "data": {
      "image/png": "[encoded data removed]",
      "text/plain": [
       "<Figure size 720x360 with 2 Axes>"
      ]
     },
     "metadata": {
      "needs_background": "light"
     },
     "output_type": "display_data"
    }
   ],
   "source": [
    "plot_results(x_test, y_test, y_pred)"
   ]
  }
 ],
 "metadata": {
  "kernelspec": {
   "display_name": "Python 3",
   "language": "python",
   "name": "python3"
  },
  "language_info": {
   "codemirror_mode": {
    "name": "ipython",
    "version": 3
   },
   "file_extension": ".py",
   "mimetype": "text/x-python",
   "name": "python",
   "nbconvert_exporter": "python",
   "pygments_lexer": "ipython3",
   "version": "3.9.10"
  },
  "latex_envs": {
   "LaTeX_envs_menu_present": true,
   "autoclose": false,
   "autocomplete": true,
   "bibliofile": "biblio.bib",
   "cite_by": "apalike",
   "current_citInitial": 1,
   "eqLabelWithNumbers": true,
   "eqNumInitial": 1,
   "hotkeys": {
    "equation": "Ctrl-E",
    "itemize": "Ctrl-I"
   },
   "labels_anchors": false,
   "latex_user_defs": false,
   "report_style_numbering": false,
   "user_envs_cfg": false
  },
  "toc": {
   "base_numbering": 1,
   "nav_menu": {},
   "number_sections": true,
   "sideBar": true,
   "skip_h1_title": false,
   "title_cell": "Table of Contents",
   "title_sidebar": "Contents",
   "toc_cell": false,
   "toc_position": {
    "height": "calc(100% - 180px)",
    "left": "10px",
    "top": "150px",
    "width": "219px"
   },
   "toc_section_display": true,
   "toc_window_display": false
  }
 },
 "nbformat": 4,
 "nbformat_minor": 2
}
