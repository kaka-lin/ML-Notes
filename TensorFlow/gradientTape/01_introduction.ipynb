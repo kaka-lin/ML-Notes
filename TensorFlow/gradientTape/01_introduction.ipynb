{
 "cells": [
  {
   "cell_type": "markdown",
   "metadata": {},
   "source": [
    "# GradientTape\n",
    "\n",
    "[tf.GradientTape](https://www.tensorflow.org/versions/r2.0/api_docs/python/tf/GradientTape?hl=zh_tw)\n",
    "\n",
    "Record operations for automatic differentiation.\n",
    "\n",
    "```python\n",
    "tf.GradientTape(\n",
    "    persistent=False,\n",
    "    watch_accessed_variables=True\n",
    ")\n",
    "```\n",
    "\n",
    "- Auguments:\n",
    "\n",
    "    - `persistent`: Boolean control whether a persistent gradient tape is created.\n",
    "    - `watch_accessed_variables`: Boolean control whether the tape will automatically `watch` any (trainable) variables accessed while the tape is active.\n",
    "    \n",
    "---\n",
    "   \n",
    "[tf.GradientTape.gradient](https://www.tensorflow.org/versions/r2.0/api_docs/python/tf/GradientTape?hl=zh_tw#gradient)\n",
    "\n",
    "Computes the gradient using operations recorded in context of this tape.\n",
    "\n",
    "```python\n",
    "tf.GradientTape.gradient(\n",
    "    target,\n",
    "    sources,\n",
    "    output_gradients=None,\n",
    "    unconnected_gradients=tf.UnconnectedGradients.NONE\n",
    ")\n",
    "```\n",
    "\n",
    "- Auguments:\n",
    "\n",
    "    - `target`: Tensor (or list of tensors) to be differentiated.\n",
    "    - `sources`: a list or nested structure of Tensors or Variables. `target` will be differentiated against elements in `sources`.\n",
    "    - `output_gradients`: a list of gradients, one for each element of target. Defaults to None.\n",
    "    - `unconnected_gradients`: a value which can either hold 'none' or 'zero' and alters the value which will be returned if the target and sources are unconnected. The possible values and effects are detailed in 'UnconnectedGradients' and it defaults to 'none'.\n",
    "\n",
    "---\n",
    "\n",
    "[tf.GradientTape.watch](https://www.tensorflow.org/versions/r2.0/api_docs/python/tf/GradientTape?hl=zh_tw#watch)\n",
    "\n",
    "Ensures that tensor is being traced by this tape.\n",
    "\n",
    "\n",
    "```python\n",
    "tf.GradientTape.watch(tensot)\n",
    "```\n",
    "\n",
    "- Arguments:\n",
    "\n",
    "    - `tensor`: a Tensor or list of Tensors.\n",
    "\n",
    "\n",
    "For example, consider the function `y = x * x`. The gradient at `x = 3.0` can be computed as:"
   ]
  },
  {
   "cell_type": "code",
   "execution_count": 1,
   "metadata": {
    "ExecuteTime": {
     "end_time": "2019-10-02T08:39:54.304784Z",
     "start_time": "2019-10-02T08:39:53.105837Z"
    }
   },
   "outputs": [
    {
     "data": {
      "text/plain": [
       "'2.0.0'"
      ]
     },
     "execution_count": 1,
     "metadata": {},
     "output_type": "execute_result"
    }
   ],
   "source": [
    "import tensorflow as tf\n",
    "\n",
    "tf.__version__"
   ]
  },
  {
   "cell_type": "code",
   "execution_count": 2,
   "metadata": {
    "ExecuteTime": {
     "end_time": "2019-10-02T08:39:54.426563Z",
     "start_time": "2019-10-02T08:39:54.306382Z"
    }
   },
   "outputs": [
    {
     "data": {
      "text/plain": [
       "<tf.Tensor: id=0, shape=(), dtype=float32, numpy=3.0>"
      ]
     },
     "execution_count": 2,
     "metadata": {},
     "output_type": "execute_result"
    }
   ],
   "source": [
    "x = tf.constant(3.0)\n",
    "x"
   ]
  },
  {
   "cell_type": "code",
   "execution_count": 3,
   "metadata": {
    "ExecuteTime": {
     "end_time": "2019-10-02T08:39:55.091265Z",
     "start_time": "2019-10-02T08:39:54.429023Z"
    }
   },
   "outputs": [
    {
     "name": "stdout",
     "output_type": "stream",
     "text": [
      "tf.Tensor(6.0, shape=(), dtype=float32)\n",
      "Value: 6.0\n"
     ]
    }
   ],
   "source": [
    "with tf.GradientTape() as tape:\n",
    "    tape.watch(x)\n",
    "    y = x * x\n",
    "dy_dx = tape.gradient(y, x) # Will compute to 6.0\n",
    "\n",
    "print(dy_dx)\n",
    "print(\"Value:\", dy_dx.numpy())"
   ]
  },
  {
   "cell_type": "markdown",
   "metadata": {},
   "source": [
    "GradientTapes can be nested to compute higher-order derivatives. For example,"
   ]
  },
  {
   "cell_type": "code",
   "execution_count": 4,
   "metadata": {
    "ExecuteTime": {
     "end_time": "2019-10-02T08:39:55.099235Z",
     "start_time": "2019-10-02T08:39:55.093151Z"
    }
   },
   "outputs": [
    {
     "name": "stdout",
     "output_type": "stream",
     "text": [
      "Function: y = x * x, x = 3.0\n",
      "First Derivative: 6.0\n",
      "Second Derivative: 2.0\n"
     ]
    }
   ],
   "source": [
    "with tf.GradientTape() as tape2:\n",
    "    tape2.watch(x)\n",
    "    with tf.GradientTape() as tape3:\n",
    "        tape3.watch(x)\n",
    "        y = x * x\n",
    "    dy_dx = tape3.gradient(y, x)\n",
    "d2y_d2x = tape2.gradient(dy_dx, x)\n",
    "\n",
    "print(\"Function: y = x * x, x = 3.0\")\n",
    "print(\"First Derivative:\", dy_dx.numpy())\n",
    "print(\"Second Derivative:\", d2y_d2x.numpy())"
   ]
  },
  {
   "cell_type": "markdown",
   "metadata": {},
   "source": [
    "## Compute multiple gradient\n",
    "\n",
    "By default, the resources held by a `GradientTape` are released as soon as `GradientTape.gradient()` method is called.\n",
    "\n",
    "To compute multiple gradients over the same computation, create `a persistent gradient tape`. This allows multiple calls to the gradient() method as resources are released when the tape object is garbage collection."
   ]
  },
  {
   "cell_type": "code",
   "execution_count": 5,
   "metadata": {
    "ExecuteTime": {
     "end_time": "2019-10-02T08:39:55.169444Z",
     "start_time": "2019-10-02T08:39:55.100554Z"
    }
   },
   "outputs": [
    {
     "name": "stdout",
     "output_type": "stream",
     "text": [
      "First derivative of function y = x ^ 4 at x = 3 is 108.0\n"
     ]
    }
   ],
   "source": [
    "with tf.GradientTape(persistent=True) as persistent_tape:\n",
    "    persistent_tape.watch(x)\n",
    "    y = x * x\n",
    "    z = y * y\n",
    "dz_dx = persistent_tape.gradient(z, x) # 108.0 (4*x^3 at x = 3)\n",
    "dy_dx = persistent_tape.gradient(y, x) # 6.0\n",
    "print(\"First derivative of function y = x ^ 4 at x = 3 is\", dz_dx.numpy())\n",
    "\n",
    "# Drop the reference to the tape\n",
    "del persistent_tape \n",
    "#persistent_tape # NameError: name 'persistent_tape' is not defined"
   ]
  },
  {
   "cell_type": "markdown",
   "metadata": {},
   "source": [
    "## Disable automatic tracking\n",
    "\n",
    "By default, GradientTape will automatically watch any trainable variables that are accessed inside the context.\n",
    "\n",
    "If you want fine-grained contorl over which variables are watched you disable automatic tracking by passing `watch_accessed_variables=False` to the tape constructor."
   ]
  },
  {
   "cell_type": "code",
   "execution_count": 6,
   "metadata": {
    "ExecuteTime": {
     "end_time": "2019-10-02T08:39:55.293496Z",
     "start_time": "2019-10-02T08:39:55.170904Z"
    }
   },
   "outputs": [
    {
     "name": "stdout",
     "output_type": "stream",
     "text": [
      "tf.Tensor(6.0, shape=(), dtype=float32)\n",
      "None\n"
     ]
    }
   ],
   "source": [
    "variable_a = tf.Variable(3.0, name='x1')\n",
    "variable_b = tf.Variable(2.0, name='x2')\n",
    "\n",
    "with tf.GradientTape(persistent=True, watch_accessed_variables=False) as disable_tracking_tape:\n",
    "    disable_tracking_tape.watch(variable_a)\n",
    "    y = variable_a ** 2 # Gradients will be available for `variable_a`.\n",
    "    z = variable_b ** 3 # No gradients will be available since `variable_b` is \n",
    "                        # not being watched.\n",
    "gradient_1 = disable_tracking_tape.gradient(y, variable_a) # 6.0\n",
    "gradient_2 = disable_tracking_tape.gradient(z, variable_b) # None\n",
    "\n",
    "print(gradient_1)\n",
    "print(gradient_2)"
   ]
  }
 ],
 "metadata": {
  "kernelspec": {
   "display_name": "Python 3",
   "language": "python",
   "name": "python3"
  },
  "language_info": {
   "codemirror_mode": {
    "name": "ipython",
    "version": 3
   },
   "file_extension": ".py",
   "mimetype": "text/x-python",
   "name": "python",
   "nbconvert_exporter": "python",
   "pygments_lexer": "ipython3",
   "version": "3.6.9"
  },
  "latex_envs": {
   "LaTeX_envs_menu_present": true,
   "autoclose": false,
   "autocomplete": true,
   "bibliofile": "biblio.bib",
   "cite_by": "apalike",
   "current_citInitial": 1,
   "eqLabelWithNumbers": true,
   "eqNumInitial": 1,
   "hotkeys": {
    "equation": "Ctrl-E",
    "itemize": "Ctrl-I"
   },
   "labels_anchors": false,
   "latex_user_defs": false,
   "report_style_numbering": false,
   "user_envs_cfg": false
  },
  "toc": {
   "base_numbering": 1,
   "nav_menu": {},
   "number_sections": true,
   "sideBar": true,
   "skip_h1_title": false,
   "title_cell": "Table of Contents",
   "title_sidebar": "Contents",
   "toc_cell": false,
   "toc_position": {},
   "toc_section_display": true,
   "toc_window_display": true
  }
 },
 "nbformat": 4,
 "nbformat_minor": 2
}
