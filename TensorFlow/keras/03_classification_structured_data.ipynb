{
 "cells": [
  {
   "cell_type": "markdown",
   "metadata": {},
   "source": [
    "# Classify structured data\n",
    "\n",
    "This tutorial demonstrates how to classify `structured data` (e.g. tabular data in a CSV). \n",
    "And will use Keras to define the model, and [feature columns](https://www.tensorflow.org/guide/feature_columns) as a bridge to map from columns in a CSV to features used to train the model. \n",
    "\n",
    "- Load a CSV file using [Pandas](https://pandas.pydata.org/).\n",
    "- Build an input pipeline to batch and shuffle the rows using [tf.data](https://www.tensorflow.org/guide/datasets).\n",
    "- Map from columns in the CSV to features used to train the model using feature columns.\n",
    "- Build, train, and evaluate a model using Keras.\n"
   ]
  },
  {
   "cell_type": "markdown",
   "metadata": {},
   "source": [
    "## Import libraries"
   ]
  },
  {
   "cell_type": "code",
   "execution_count": 4,
   "metadata": {},
   "outputs": [],
   "source": [
    "!pip install -q sklearn pandas"
   ]
  },
  {
   "cell_type": "code",
   "execution_count": 5,
   "metadata": {},
   "outputs": [
    {
     "name": "stdout",
     "output_type": "stream",
     "text": [
      "Tensorflow version:  2.0.0-beta1\n",
      "Tensorflow Keras version:  2.2.4-tf\n"
     ]
    }
   ],
   "source": [
    "import os, sys\n",
    "import numpy as np\n",
    "import pandas as pd\n",
    "import matplotlib.pyplot as plt\n",
    "import tensorflow as tf\n",
    "from tensorflow import feature_column\n",
    "from tensorflow.keras import layers\n",
    "from sklearn.model_selection import train_test_split\n",
    "\n",
    "%matplotlib inline\n",
    "\n",
    "print(\"Tensorflow version: \", tf.__version__)\n",
    "print(\"Tensorflow Keras version: \", tf.keras.__version__)"
   ]
  },
  {
   "cell_type": "markdown",
   "metadata": {},
   "source": [
    "## Load a CSV file and create a dataframe"
   ]
  },
  {
   "cell_type": "markdown",
   "metadata": {},
   "source": [
    "### The Dataset\n",
    "\n",
    "[Heart Disease Data Set](https://archive.ics.uci.edu/ml/datasets/heart+Disease)\n",
    "\n",
    "There are several hundred rows in the CSV. Each row describes a patient, and each column describes an attribute. We will use this information to `predict whether a patient has heart disease`, which in this dataset is a `binary classification` task.\n",
    "     \n",
    "<img src=\"imgs/heart_disease.png\" width=70%>"
   ]
  },
  {
   "cell_type": "markdown",
   "metadata": {},
   "source": [
    "### Use Pandas to read CSV file and create a dataframe"
   ]
  },
  {
   "cell_type": "code",
   "execution_count": 8,
   "metadata": {},
   "outputs": [
    {
     "data": {
      "text/html": [
       "<div>\n",
       "<style scoped>\n",
       "    .dataframe tbody tr th:only-of-type {\n",
       "        vertical-align: middle;\n",
       "    }\n",
       "\n",
       "    .dataframe tbody tr th {\n",
       "        vertical-align: top;\n",
       "    }\n",
       "\n",
       "    .dataframe thead th {\n",
       "        text-align: right;\n",
       "    }\n",
       "</style>\n",
       "<table border=\"1\" class=\"dataframe\">\n",
       "  <thead>\n",
       "    <tr style=\"text-align: right;\">\n",
       "      <th></th>\n",
       "      <th>age</th>\n",
       "      <th>sex</th>\n",
       "      <th>cp</th>\n",
       "      <th>trestbps</th>\n",
       "      <th>chol</th>\n",
       "      <th>fbs</th>\n",
       "      <th>restecg</th>\n",
       "      <th>thalach</th>\n",
       "      <th>exang</th>\n",
       "      <th>oldpeak</th>\n",
       "      <th>slope</th>\n",
       "      <th>ca</th>\n",
       "      <th>thal</th>\n",
       "      <th>target</th>\n",
       "    </tr>\n",
       "  </thead>\n",
       "  <tbody>\n",
       "    <tr>\n",
       "      <td>0</td>\n",
       "      <td>63</td>\n",
       "      <td>1</td>\n",
       "      <td>1</td>\n",
       "      <td>145</td>\n",
       "      <td>233</td>\n",
       "      <td>1</td>\n",
       "      <td>2</td>\n",
       "      <td>150</td>\n",
       "      <td>0</td>\n",
       "      <td>2.3</td>\n",
       "      <td>3</td>\n",
       "      <td>0</td>\n",
       "      <td>fixed</td>\n",
       "      <td>0</td>\n",
       "    </tr>\n",
       "    <tr>\n",
       "      <td>1</td>\n",
       "      <td>67</td>\n",
       "      <td>1</td>\n",
       "      <td>4</td>\n",
       "      <td>160</td>\n",
       "      <td>286</td>\n",
       "      <td>0</td>\n",
       "      <td>2</td>\n",
       "      <td>108</td>\n",
       "      <td>1</td>\n",
       "      <td>1.5</td>\n",
       "      <td>2</td>\n",
       "      <td>3</td>\n",
       "      <td>normal</td>\n",
       "      <td>1</td>\n",
       "    </tr>\n",
       "    <tr>\n",
       "      <td>2</td>\n",
       "      <td>67</td>\n",
       "      <td>1</td>\n",
       "      <td>4</td>\n",
       "      <td>120</td>\n",
       "      <td>229</td>\n",
       "      <td>0</td>\n",
       "      <td>2</td>\n",
       "      <td>129</td>\n",
       "      <td>1</td>\n",
       "      <td>2.6</td>\n",
       "      <td>2</td>\n",
       "      <td>2</td>\n",
       "      <td>reversible</td>\n",
       "      <td>0</td>\n",
       "    </tr>\n",
       "    <tr>\n",
       "      <td>3</td>\n",
       "      <td>37</td>\n",
       "      <td>1</td>\n",
       "      <td>3</td>\n",
       "      <td>130</td>\n",
       "      <td>250</td>\n",
       "      <td>0</td>\n",
       "      <td>0</td>\n",
       "      <td>187</td>\n",
       "      <td>0</td>\n",
       "      <td>3.5</td>\n",
       "      <td>3</td>\n",
       "      <td>0</td>\n",
       "      <td>normal</td>\n",
       "      <td>0</td>\n",
       "    </tr>\n",
       "    <tr>\n",
       "      <td>4</td>\n",
       "      <td>41</td>\n",
       "      <td>0</td>\n",
       "      <td>2</td>\n",
       "      <td>130</td>\n",
       "      <td>204</td>\n",
       "      <td>0</td>\n",
       "      <td>2</td>\n",
       "      <td>172</td>\n",
       "      <td>0</td>\n",
       "      <td>1.4</td>\n",
       "      <td>1</td>\n",
       "      <td>0</td>\n",
       "      <td>normal</td>\n",
       "      <td>0</td>\n",
       "    </tr>\n",
       "  </tbody>\n",
       "</table>\n",
       "</div>"
      ],
      "text/plain": [
       "   age  sex  cp  trestbps  chol  fbs  restecg  thalach  exang  oldpeak  slope  \\\n",
       "0   63    1   1       145   233    1        2      150      0      2.3      3   \n",
       "1   67    1   4       160   286    0        2      108      1      1.5      2   \n",
       "2   67    1   4       120   229    0        2      129      1      2.6      2   \n",
       "3   37    1   3       130   250    0        0      187      0      3.5      3   \n",
       "4   41    0   2       130   204    0        2      172      0      1.4      1   \n",
       "\n",
       "   ca        thal  target  \n",
       "0   0       fixed       0  \n",
       "1   3      normal       1  \n",
       "2   2  reversible       0  \n",
       "3   0      normal       0  \n",
       "4   0      normal       0  "
      ]
     },
     "execution_count": 8,
     "metadata": {},
     "output_type": "execute_result"
    }
   ],
   "source": [
    "URL = 'https://storage.googleapis.com/applied-dl/heart.csv'\n",
    "dataframe = pd.read_csv(URL)\n",
    "dataframe.head()"
   ]
  },
  {
   "cell_type": "code",
   "execution_count": 9,
   "metadata": {},
   "outputs": [
    {
     "name": "stdout",
     "output_type": "stream",
     "text": [
      "193 train examples\n",
      "49 validation examples\n",
      "61 test examples\n"
     ]
    }
   ],
   "source": [
    "train, test = train_test_split(dataframe, test_size=0.2)\n",
    "train, val = train_test_split(train, test_size=0.2)\n",
    "print(len(train), 'train examples')\n",
    "print(len(val), 'validation examples')\n",
    "print(len(test), 'test examples')"
   ]
  },
  {
   "cell_type": "markdown",
   "metadata": {},
   "source": [
    "## Create an input pipeline\n",
    "\n",
    "We will wrap the dataframes with [tf.data](https://www.tensorflow.org/guide/datasets). This will enable us to use feature columns as a bridge to map from the columns in the Pandas dataframe to features used to train the model. If we were working with a very large CSV file (so large that it does not fit into memory), we would use tf.data to read it from disk directly. That is not covered in this tutorial."
   ]
  },
  {
   "cell_type": "code",
   "execution_count": 3,
   "metadata": {
    "scrolled": true
   },
   "outputs": [
    {
     "name": "stdout",
     "output_type": "stream",
     "text": [
      "Training entries: 25000, labels: 25000\n",
      "First review length:  218\n",
      "Second review length:  189\n",
      "\n",
      "[1, 14, 22, 16, 43, 530, 973, 1622, 1385, 65, 458, 4468, 66, 3941, 4, 173, 36, 256, 5, 25, 100, 43, 838, 112, 50, 670, 2, 9, 35, 480, 284, 5, 150, 4, 172, 112, 167, 2, 336, 385, 39, 4, 172, 4536, 1111, 17, 546, 38, 13, 447, 4, 192, 50, 16, 6, 147, 2025, 19, 14, 22, 4, 1920, 4613, 469, 4, 22, 71, 87, 12, 16, 43, 530, 38, 76, 15, 13, 1247, 4, 22, 17, 515, 17, 12, 16, 626, 18, 2, 5, 62, 386, 12, 8, 316, 8, 106, 5, 4, 2223, 5244, 16, 480, 66, 3785, 33, 4, 130, 12, 16, 38, 619, 5, 25, 124, 51, 36, 135, 48, 25, 1415, 33, 6, 22, 12, 215, 28, 77, 52, 5, 14, 407, 16, 82, 2, 8, 4, 107, 117, 5952, 15, 256, 4, 2, 7, 3766, 5, 723, 36, 71, 43, 530, 476, 26, 400, 317, 46, 7, 4, 2, 1029, 13, 104, 88, 4, 381, 15, 297, 98, 32, 2071, 56, 26, 141, 6, 194, 7486, 18, 4, 226, 22, 21, 134, 476, 26, 480, 5, 144, 30, 5535, 18, 51, 36, 28, 224, 92, 25, 104, 4, 226, 65, 16, 38, 1334, 88, 12, 16, 283, 5, 16, 4472, 113, 103, 32, 15, 16, 5345, 19, 178, 32]\n"
     ]
    }
   ],
   "source": [
    "print(\"Training entries: {}, labels: {}\".format(len(x_train), len(y_train)))\n",
    "\n",
    "print(\"First review length: \", len(x_train[0]))\n",
    "print(\"Second review length: \", len(x_train[1]))\n",
    "\n",
    "print()\n",
    "print(x_train[0])"
   ]
  },
  {
   "cell_type": "markdown",
   "metadata": {},
   "source": [
    "## Preprocess the data: Convert the integers back to words"
   ]
  },
  {
   "cell_type": "code",
   "execution_count": 5,
   "metadata": {
    "scrolled": true
   },
   "outputs": [],
   "source": [
    "# A dictionary mapping words to an integer index\n",
    "word_index = tf.keras.datasets.imdb.get_word_index()\n",
    "word_index"
   ]
  },
  {
   "cell_type": "code",
   "execution_count": 7,
   "metadata": {
    "scrolled": false
   },
   "outputs": [],
   "source": [
    "# The first indices are reserved\n",
    "word_index = {k: (v+3) for k, v in word_index.items()}\n",
    "word_index[\"<PAD>\"] = 0\n",
    "word_index[\"<START>\"] = 1\n",
    "word_index[\"<UNK>\"] = 2  # unknown\n",
    "word_index[\"<UNUSED>\"] = 3\n",
    "\n",
    "reverse_word_index = dict([(value, key) for (key, value) in word_index.items()]) \n",
    "\n",
    "print(reverse_word_index)\n",
    "\n",
    "def decode_review(text):\n",
    "    #  dict.get(): returns a value for the given key. \n",
    "    #              If key is not available then returns default value.\n",
    "    #              default value is `None`.\n",
    "    return ' '.join([reverse_word_index.get(i, '?') for i in text])"
   ]
  },
  {
   "cell_type": "code",
   "execution_count": 8,
   "metadata": {
    "scrolled": true
   },
   "outputs": [
    {
     "data": {
      "text/plain": [
       "\"<START> in with i like horrible business chinese charm would killer waited which explosion ? going at fun ? film make like lame character has novel <UNK> a all final sense ? real ? find character nothing <UNK> second perhaps they ? find valuable cover this city an br overall ? horror has i ? should shop was in with ? delightful 00 despite ? with their people is i like horrible an well it br garbage ? with this genre this is i taken that <UNK> ? she sex is and house and after ? ? product bud i final which returned be ? does is i an annoying ? film where if at man it's film sent be ? with is comedy you than some ? in perfect i get <UNK> and ? think plot windows it fun ? <UNK> the lou ? sequence at their like horrible wanted on getting night just the ? <UNK> rich br any other ? couple it someone then he decade more on why ? can't ajay that ? family with for still wanted on final ? such his lindsay that if at you interesting how film any ? family would i an g other is i once ? i boot seen could he it i pitiful was every he\""
      ]
     },
     "execution_count": 8,
     "metadata": {},
     "output_type": "execute_result"
    }
   ],
   "source": [
    "decode_review(x_train[0])"
   ]
  },
  {
   "cell_type": "markdown",
   "metadata": {},
   "source": [
    "## Prepare the data\n",
    "\n",
    "The reivews-the array of integers-must be converted to `tensors` before fed into the neural network.\n",
    "\n",
    "This conversion can be done a coiple ways:\n",
    "\n",
    "- One-hot encoding:\n",
    "\n",
    "    For example, the sequence [3, 5] would become a 10,000-dimensional vector that is all zeros except for indices 3 and 5, which are ones.Then, make this the first layer in our neural network-a Denselayer-that can handle floating point vector data.\n",
    "    \n",
    "    * This approch is memory intensive, though, requiring a `num_words * num_reviews` size matrix.\n",
    "\n",
    "\n",
    "- Pad the arrays:\n",
    "\n",
    "    So they all have the same length, then create an integer tensor of shape `max_length * num_reviews`.\n",
    "    \n",
    "    * We can use an embedding layer capable of handling this shape as the first layer in our neural network.\n",
    "\n",
    "\n",
    "In this tutorial, we will use the second approach.\n",
    "\n",
    "[pad_sequences](https://keras.io/preprocessing/sequence/#pad_sequences)"
   ]
  },
  {
   "cell_type": "code",
   "execution_count": 9,
   "metadata": {
    "scrolled": false
   },
   "outputs": [
    {
     "name": "stdout",
     "output_type": "stream",
     "text": [
      "First review length:  256\n",
      "Second review length:  256\n",
      "(25000, 256)\n",
      "\n",
      "[   1   14   22   16   43  530  973 1622 1385   65  458 4468   66 3941\n",
      "    4  173   36  256    5   25  100   43  838  112   50  670    2    9\n",
      "   35  480  284    5  150    4  172  112  167    2  336  385   39    4\n",
      "  172 4536 1111   17  546   38   13  447    4  192   50   16    6  147\n",
      " 2025   19   14   22    4 1920 4613  469    4   22   71   87   12   16\n",
      "   43  530   38   76   15   13 1247    4   22   17  515   17   12   16\n",
      "  626   18    2    5   62  386   12    8  316    8  106    5    4 2223\n",
      " 5244   16  480   66 3785   33    4  130   12   16   38  619    5   25\n",
      "  124   51   36  135   48   25 1415   33    6   22   12  215   28   77\n",
      "   52    5   14  407   16   82    2    8    4  107  117 5952   15  256\n",
      "    4    2    7 3766    5  723   36   71   43  530  476   26  400  317\n",
      "   46    7    4    2 1029   13  104   88    4  381   15  297   98   32\n",
      " 2071   56   26  141    6  194 7486   18    4  226   22   21  134  476\n",
      "   26  480    5  144   30 5535   18   51   36   28  224   92   25  104\n",
      "    4  226   65   16   38 1334   88   12   16  283    5   16 4472  113\n",
      "  103   32   15   16 5345   19  178   32    0    0    0    0    0    0\n",
      "    0    0    0    0    0    0    0    0    0    0    0    0    0    0\n",
      "    0    0    0    0    0    0    0    0    0    0    0    0    0    0\n",
      "    0    0    0    0]\n"
     ]
    }
   ],
   "source": [
    "x_train = tf.keras.preprocessing.sequence.pad_sequences(\n",
    "    x_train,\n",
    "    value=word_index[\"<PAD>\"],\n",
    "    padding='post',\n",
    "    maxlen=256)\n",
    "\n",
    "x_test = tf.keras.preprocessing.sequence.pad_sequences(\n",
    "    x_test,\n",
    "    value=word_index[\"<PAD>\"],\n",
    "    padding='post',\n",
    "    maxlen=256)\n",
    "\n",
    "print(\"First review length: \", len(x_train[0]))\n",
    "print(\"Second review length: \", len(x_train[1]))\n",
    "print(x_train.shape)\n",
    "\n",
    "print()\n",
    "print(x_train[0])"
   ]
  },
  {
   "cell_type": "markdown",
   "metadata": {},
   "source": [
    "## Create a validation set"
   ]
  },
  {
   "cell_type": "code",
   "execution_count": 10,
   "metadata": {},
   "outputs": [
    {
     "name": "stdout",
     "output_type": "stream",
     "text": [
      "training set: 15000\n",
      "validation set: 10000\n"
     ]
    }
   ],
   "source": [
    "x_valid = x_train[:10000]\n",
    "x_train = x_train[10000:]\n",
    "\n",
    "y_valid = y_train[:10000]\n",
    "y_train = y_train[10000:]\n",
    "\n",
    "print(\"training set: {}\".format(x_train.shape[0]))\n",
    "print(\"validation set: {}\".format(x_valid.shape[0]))"
   ]
  },
  {
   "cell_type": "markdown",
   "metadata": {},
   "source": [
    "## Build the model"
   ]
  },
  {
   "cell_type": "code",
   "execution_count": 11,
   "metadata": {},
   "outputs": [
    {
     "name": "stdout",
     "output_type": "stream",
     "text": [
      "Model: \"sequential\"\n",
      "_________________________________________________________________\n",
      "Layer (type)                 Output Shape              Param #   \n",
      "=================================================================\n",
      "embedding (Embedding)        (None, None, 16)          160000    \n",
      "_________________________________________________________________\n",
      "global_average_pooling1d (Gl (None, 16)                0         \n",
      "_________________________________________________________________\n",
      "dense (Dense)                (None, 16)                272       \n",
      "_________________________________________________________________\n",
      "dense_1 (Dense)              (None, 1)                 17        \n",
      "=================================================================\n",
      "Total params: 160,289\n",
      "Trainable params: 160,289\n",
      "Non-trainable params: 0\n",
      "_________________________________________________________________\n"
     ]
    }
   ],
   "source": [
    "# input shape is the vocabulary count used for the movie reviews (10,000 words)\n",
    "vocab_size = 10000\n",
    "\n",
    "model = tf.keras.Sequential()\n",
    "\n",
    "model.add(Embedding(vocab_size, 16))\n",
    "model.add(GlobalAveragePooling1D())\n",
    "model.add(Dense(16, activation='relu'))\n",
    "model.add(Dense(1, activation='sigmoid'))\n",
    "\n",
    "model.summary()"
   ]
  },
  {
   "cell_type": "markdown",
   "metadata": {},
   "source": [
    "## Compile the model"
   ]
  },
  {
   "cell_type": "code",
   "execution_count": 12,
   "metadata": {},
   "outputs": [],
   "source": [
    "model.compile(optimizer='adam',\n",
    "              loss='binary_crossentropy',\n",
    "              metrics=['acc'])"
   ]
  },
  {
   "cell_type": "markdown",
   "metadata": {},
   "source": [
    "## Train the model"
   ]
  },
  {
   "cell_type": "code",
   "execution_count": 13,
   "metadata": {
    "scrolled": true
   },
   "outputs": [
    {
     "name": "stderr",
     "output_type": "stream",
     "text": [
      "WARNING: Logging before flag parsing goes to stderr.\n",
      "W0907 14:44:05.829052 139803710854976 deprecation.py:323] From /usr/local/anaconda3/lib/python3.6/site-packages/tensorflow/python/ops/math_grad.py:1250: add_dispatch_support.<locals>.wrapper (from tensorflow.python.ops.array_ops) is deprecated and will be removed in a future version.\n",
      "Instructions for updating:\n",
      "Use tf.where in 2.0, which has the same broadcast rule as np.where\n"
     ]
    },
    {
     "name": "stdout",
     "output_type": "stream",
     "text": [
      "Train on 15000 samples, validate on 10000 samples\n",
      "Epoch 1/40\n",
      "15000/15000 [==============================] - 2s 120us/sample - loss: 0.6918 - acc: 0.6226 - val_loss: 0.6896 - val_acc: 0.6865\n",
      "Epoch 2/40\n",
      "15000/15000 [==============================] - 1s 68us/sample - loss: 0.6858 - acc: 0.7355 - val_loss: 0.6818 - val_acc: 0.7415\n",
      "Epoch 3/40\n",
      "15000/15000 [==============================] - 1s 73us/sample - loss: 0.6731 - acc: 0.7556 - val_loss: 0.6655 - val_acc: 0.7616\n",
      "Epoch 4/40\n",
      "15000/15000 [==============================] - 1s 75us/sample - loss: 0.6505 - acc: 0.7615 - val_loss: 0.6399 - val_acc: 0.7624\n",
      "Epoch 5/40\n",
      "15000/15000 [==============================] - 1s 74us/sample - loss: 0.6175 - acc: 0.7923 - val_loss: 0.6054 - val_acc: 0.7870\n",
      "Epoch 6/40\n",
      "15000/15000 [==============================] - 1s 69us/sample - loss: 0.5758 - acc: 0.8137 - val_loss: 0.5651 - val_acc: 0.8034\n",
      "Epoch 7/40\n",
      "15000/15000 [==============================] - 1s 74us/sample - loss: 0.5290 - acc: 0.8271 - val_loss: 0.5213 - val_acc: 0.8204\n",
      "Epoch 8/40\n",
      "15000/15000 [==============================] - 2s 113us/sample - loss: 0.4821 - acc: 0.8448 - val_loss: 0.4806 - val_acc: 0.8330\n",
      "Epoch 9/40\n",
      "15000/15000 [==============================] - 1s 92us/sample - loss: 0.4383 - acc: 0.8600 - val_loss: 0.4438 - val_acc: 0.8433\n",
      "Epoch 10/40\n",
      "15000/15000 [==============================] - 1s 88us/sample - loss: 0.3995 - acc: 0.8729 - val_loss: 0.4133 - val_acc: 0.8505\n",
      "Epoch 11/40\n",
      "15000/15000 [==============================] - 1s 78us/sample - loss: 0.3666 - acc: 0.8808 - val_loss: 0.3880 - val_acc: 0.8587\n",
      "Epoch 12/40\n",
      "15000/15000 [==============================] - 1s 87us/sample - loss: 0.3389 - acc: 0.8884 - val_loss: 0.3686 - val_acc: 0.8615\n",
      "Epoch 13/40\n",
      "15000/15000 [==============================] - 1s 76us/sample - loss: 0.3161 - acc: 0.8943 - val_loss: 0.3513 - val_acc: 0.8668\n",
      "Epoch 14/40\n",
      "15000/15000 [==============================] - 1s 85us/sample - loss: 0.2957 - acc: 0.8998 - val_loss: 0.3387 - val_acc: 0.8716\n",
      "Epoch 15/40\n",
      "15000/15000 [==============================] - 1s 91us/sample - loss: 0.2786 - acc: 0.9049 - val_loss: 0.3283 - val_acc: 0.8727\n",
      "Epoch 16/40\n",
      "15000/15000 [==============================] - 1s 94us/sample - loss: 0.2633 - acc: 0.9096 - val_loss: 0.3195 - val_acc: 0.8747\n",
      "Epoch 17/40\n",
      "15000/15000 [==============================] - 1s 84us/sample - loss: 0.2492 - acc: 0.9146 - val_loss: 0.3123 - val_acc: 0.8771\n",
      "Epoch 18/40\n",
      "15000/15000 [==============================] - 1s 99us/sample - loss: 0.2367 - acc: 0.9191 - val_loss: 0.3060 - val_acc: 0.8799\n",
      "Epoch 19/40\n",
      "15000/15000 [==============================] - 1s 81us/sample - loss: 0.2255 - acc: 0.9220 - val_loss: 0.3008 - val_acc: 0.8806\n",
      "Epoch 20/40\n",
      "15000/15000 [==============================] - 1s 79us/sample - loss: 0.2153 - acc: 0.9249 - val_loss: 0.2972 - val_acc: 0.8809\n",
      "Epoch 21/40\n",
      "15000/15000 [==============================] - 1s 76us/sample - loss: 0.2050 - acc: 0.9309 - val_loss: 0.2940 - val_acc: 0.8814\n",
      "Epoch 22/40\n",
      "15000/15000 [==============================] - 1s 79us/sample - loss: 0.1964 - acc: 0.9329 - val_loss: 0.2912 - val_acc: 0.8840\n",
      "Epoch 23/40\n",
      "15000/15000 [==============================] - 1s 85us/sample - loss: 0.1877 - acc: 0.9381 - val_loss: 0.2899 - val_acc: 0.8831\n",
      "Epoch 24/40\n",
      "15000/15000 [==============================] - 1s 85us/sample - loss: 0.1801 - acc: 0.9415 - val_loss: 0.2881 - val_acc: 0.8840\n",
      "Epoch 25/40\n",
      "15000/15000 [==============================] - 2s 146us/sample - loss: 0.1724 - acc: 0.9452 - val_loss: 0.2864 - val_acc: 0.8849\n",
      "Epoch 26/40\n",
      "15000/15000 [==============================] - 2s 113us/sample - loss: 0.1655 - acc: 0.9473 - val_loss: 0.2868 - val_acc: 0.8830\n",
      "Epoch 27/40\n",
      "15000/15000 [==============================] - 1s 99us/sample - loss: 0.1590 - acc: 0.9503 - val_loss: 0.2860 - val_acc: 0.8841\n",
      "Epoch 28/40\n",
      "15000/15000 [==============================] - 2s 113us/sample - loss: 0.1527 - acc: 0.9528 - val_loss: 0.2862 - val_acc: 0.8858\n",
      "Epoch 29/40\n",
      "15000/15000 [==============================] - 2s 104us/sample - loss: 0.1473 - acc: 0.9559 - val_loss: 0.2876 - val_acc: 0.8834\n",
      "Epoch 30/40\n",
      "15000/15000 [==============================] - 2s 102us/sample - loss: 0.1415 - acc: 0.9571 - val_loss: 0.2869 - val_acc: 0.8857\n",
      "Epoch 31/40\n",
      "15000/15000 [==============================] - 2s 118us/sample - loss: 0.1357 - acc: 0.9603 - val_loss: 0.2877 - val_acc: 0.8869\n",
      "Epoch 32/40\n",
      "15000/15000 [==============================] - 2s 110us/sample - loss: 0.1305 - acc: 0.9621 - val_loss: 0.2890 - val_acc: 0.8859\n",
      "Epoch 33/40\n",
      "15000/15000 [==============================] - 2s 120us/sample - loss: 0.1254 - acc: 0.9639 - val_loss: 0.2910 - val_acc: 0.8860\n",
      "Epoch 34/40\n",
      "15000/15000 [==============================] - 2s 104us/sample - loss: 0.1209 - acc: 0.9657 - val_loss: 0.2929 - val_acc: 0.8851\n",
      "Epoch 35/40\n",
      "15000/15000 [==============================] - 2s 113us/sample - loss: 0.1167 - acc: 0.9667 - val_loss: 0.2952 - val_acc: 0.8862\n",
      "Epoch 36/40\n",
      "15000/15000 [==============================] - 1s 95us/sample - loss: 0.1122 - acc: 0.9691 - val_loss: 0.2968 - val_acc: 0.8852\n",
      "Epoch 37/40\n",
      "15000/15000 [==============================] - 1s 92us/sample - loss: 0.1078 - acc: 0.9699 - val_loss: 0.2992 - val_acc: 0.8842\n",
      "Epoch 38/40\n",
      "15000/15000 [==============================] - 1s 84us/sample - loss: 0.1039 - acc: 0.9715 - val_loss: 0.3025 - val_acc: 0.8828\n",
      "Epoch 39/40\n",
      "15000/15000 [==============================] - 1s 100us/sample - loss: 0.1006 - acc: 0.9725 - val_loss: 0.3057 - val_acc: 0.8829\n",
      "Epoch 40/40\n",
      "15000/15000 [==============================] - 2s 108us/sample - loss: 0.0966 - acc: 0.9745 - val_loss: 0.3082 - val_acc: 0.8835\n"
     ]
    }
   ],
   "source": [
    "history = model.fit(x_train,\n",
    "                    y_train,\n",
    "                    epochs=40,\n",
    "                    batch_size=512,\n",
    "                    validation_data=(x_valid, y_valid),\n",
    "                    verbose=1)"
   ]
  },
  {
   "cell_type": "markdown",
   "metadata": {},
   "source": [
    "## Evaluate the model"
   ]
  },
  {
   "cell_type": "code",
   "execution_count": 14,
   "metadata": {},
   "outputs": [
    {
     "name": "stdout",
     "output_type": "stream",
     "text": [
      "25000/25000 [==============================] - 3s 112us/sample - loss: 0.3287 - acc: 0.8719\n",
      "Test Acc:  0.87192\n"
     ]
    }
   ],
   "source": [
    "results = model.evaluate(x_test, y_test)\n",
    "print(\"Test Acc: \", results[1])"
   ]
  },
  {
   "cell_type": "markdown",
   "metadata": {},
   "source": [
    "## Create a graph of accuracy and loss over time\n",
    "\n",
    "`model.fit()` returns a History object that contains a dictionary with everything that happened during training:"
   ]
  },
  {
   "cell_type": "code",
   "execution_count": 15,
   "metadata": {},
   "outputs": [
    {
     "data": {
      "text/plain": [
       "dict_keys(['loss', 'acc', 'val_loss', 'val_acc'])"
      ]
     },
     "execution_count": 15,
     "metadata": {},
     "output_type": "execute_result"
    }
   ],
   "source": [
    "history_dict = history.history\n",
    "history_dict.keys()"
   ]
  },
  {
   "cell_type": "code",
   "execution_count": 16,
   "metadata": {},
   "outputs": [
    {
     "data": {
      "image/png": "[encoded data removed]",
      "text/plain": [
       "<Figure size 720x720 with 2 Axes>"
      ]
     },
     "metadata": {
      "needs_background": "light"
     },
     "output_type": "display_data"
    }
   ],
   "source": [
    "acc = history_dict['acc']\n",
    "val_acc = history_dict['val_acc']\n",
    "loss = history_dict['loss']\n",
    "val_loss = history_dict['val_loss']\n",
    "\n",
    "epochs = range(1, len(acc) + 1)\n",
    "\n",
    "fig = plt.figure(figsize=(10, 10))\n",
    "plt.subplot(2,1,1)\n",
    "plt.plot(epochs, loss, 'bo', label='Training loss')\n",
    "plt.plot(epochs, val_loss, 'b', label='Validation loss')\n",
    "plt.title('Training and validation loss')\n",
    "plt.xlabel('Epochs')\n",
    "plt.ylabel('Loss')\n",
    "plt.legend()\n",
    "plt.tight_layout()\n",
    "\n",
    "plt.subplot(2,1,2)\n",
    "plt.plot(epochs, acc, 'bo', label='Training acc')\n",
    "plt.plot(epochs, val_acc, 'b', label='Validation acc')\n",
    "plt.title('Training and validation accuracy')\n",
    "plt.xlabel('Epochs')\n",
    "plt.ylabel('Accuracy')\n",
    "plt.legend()\n",
    "plt.tight_layout()"
   ]
  }
 ],
 "metadata": {
  "kernelspec": {
   "display_name": "Python 3",
   "language": "python",
   "name": "python3"
  },
  "language_info": {
   "codemirror_mode": {
    "name": "ipython",
    "version": 3
   },
   "file_extension": ".py",
   "mimetype": "text/x-python",
   "name": "python",
   "nbconvert_exporter": "python",
   "pygments_lexer": "ipython3",
   "version": "3.6.9"
  }
 },
 "nbformat": 4,
 "nbformat_minor": 2
}
