{
 "cells": [
  {
   "cell_type": "markdown",
   "metadata": {},
   "source": [
    "# tf.keras\n",
    "\n",
    "[tf.keras](https://www.tensorflow.org/api_docs/python/tf/keras) is Tensorflow's implementation of the [Keras API specification](https://keras.io/).\n",
    "\n",
    "`tf.keras` can run any Keras-compatible code, but keep in mind:\n",
    "\n",
    "- The `tf.keras` version in the latest Tensorflow release might not be the same as the latest `keras` version from PyPI. Check `tf.keras.__version__`.\n",
    "\n",
    "- When [saving a model's weights](https://www.tensorflow.org/guide/keras#weights_only), `tf.keras` defaults to the [checkpoint format](https://www.tensorflow.org/guide/checkpoints). Please `save_format='h5'` to use HDF5."
   ]
  },
  {
   "cell_type": "code",
   "execution_count": 1,
   "metadata": {
    "ExecuteTime": {
     "end_time": "2019-10-02T08:27:17.477308Z",
     "start_time": "2019-10-02T08:27:16.003674Z"
    }
   },
   "outputs": [
    {
     "name": "stdout",
     "output_type": "stream",
     "text": [
      "2.0.0\n",
      "2.2.4-tf\n"
     ]
    }
   ],
   "source": [
    "import os, sys\n",
    "import numpy as np\n",
    "import matplotlib.pyplot as plt\n",
    "import tensorflow as tf\n",
    "from tensorflow.keras import layers\n",
    "from tensorflow.keras.layers import Dense\n",
    "\n",
    "%matplotlib inline\n",
    "\n",
    "print(tf.__version__)\n",
    "print(tf.keras.__version__)"
   ]
  },
  {
   "cell_type": "markdown",
   "metadata": {},
   "source": [
    "## [Option] GPU"
   ]
  },
  {
   "cell_type": "code",
   "execution_count": 2,
   "metadata": {
    "ExecuteTime": {
     "end_time": "2019-10-02T08:27:17.628910Z",
     "start_time": "2019-10-02T08:27:17.479298Z"
    }
   },
   "outputs": [
    {
     "name": "stdout",
     "output_type": "stream",
     "text": [
      "Tensorflow was built with GPU (i.e. CUDA or ROCm) support?: True\n",
      "GPU Available: True\n",
      "Num GPUs Available: 1\n",
      "Found GPU at: /device:GPU:0\n"
     ]
    }
   ],
   "source": [
    "isBuildWithGPUSupport = tf.test.is_built_with_gpu_support()\n",
    "isGPUAvailable =  tf.test.is_gpu_available(cuda_only=False,\n",
    "                                           min_cuda_compute_capability=None)\n",
    "\n",
    "print(\"Tensorflow was built with GPU (i.e. CUDA or ROCm) support?:\", isBuildWithGPUSupport)\n",
    "print(\"GPU Available:\", isGPUAvailable)\n",
    "print(\"Num GPUs Available:\", len(tf.config.experimental.list_physical_devices('GPU')))\n",
    "\n",
    "device_name = tf.test.gpu_device_name()\n",
    "if device_name != '/device:GPU:0':\n",
    "    raise SystemError('GPU device not found')\n",
    "print('Found GPU at: {}'.format(device_name))"
   ]
  },
  {
   "cell_type": "markdown",
   "metadata": {},
   "source": [
    "## Load data and preprocess data"
   ]
  },
  {
   "cell_type": "code",
   "execution_count": 3,
   "metadata": {
    "ExecuteTime": {
     "end_time": "2019-10-02T08:27:18.078738Z",
     "start_time": "2019-10-02T08:27:17.630797Z"
    }
   },
   "outputs": [],
   "source": [
    "def load_data():\n",
    "    mnist_dataset = tf.keras.datasets.mnist.load_data()\n",
    "    (x_train, y_train), (x_test, y_test) = mnist_dataset\n",
    "    \n",
    "    ### Preprocess the data\n",
    "    # normalization\n",
    "    # scale pixel value from 0:255 to 0:1\n",
    "    x_train = x_train / 255.0\n",
    "    x_test = x_test / 255.0\n",
    "    x_train = x_train.reshape(x_train.shape[0], 28*28)\n",
    "    x_test = x_test.reshape(x_test.shape[0], 28*28)\n",
    "\n",
    "    # one-hot encode the labels\n",
    "    y_train = tf.keras.utils.to_categorical(y_train, num_classes=10)\n",
    "    y_test = tf.keras.utils.to_categorical(y_test, num_classes=10)\n",
    "    \n",
    "    return (x_train, y_train), (x_test, y_test)\n",
    "\n",
    "(x_train, y_train), (x_test, y_test) = load_data()"
   ]
  },
  {
   "cell_type": "markdown",
   "metadata": {
    "ExecuteTime": {
     "end_time": "2019-08-21T08:35:18.539587Z",
     "start_time": "2019-08-21T08:35:18.534738Z"
    }
   },
   "source": [
    "##  Explore the data"
   ]
  },
  {
   "cell_type": "code",
   "execution_count": 4,
   "metadata": {
    "ExecuteTime": {
     "end_time": "2019-10-02T08:27:18.084470Z",
     "start_time": "2019-10-02T08:27:18.080280Z"
    }
   },
   "outputs": [
    {
     "name": "stdout",
     "output_type": "stream",
     "text": [
      "Training images:  (60000, 784)\n",
      "Training lables:  (60000, 10)\n",
      "Testing images:  (10000, 784)\n",
      "Testing labels:  (10000, 10)\n"
     ]
    }
   ],
   "source": [
    "print(\"Training images: \", x_train.shape)\n",
    "print(\"Training lables: \", y_train.shape)\n",
    "print(\"Testing images: \", x_test.shape)\n",
    "print(\"Testing labels: \", y_test.shape)"
   ]
  },
  {
   "cell_type": "code",
   "execution_count": 5,
   "metadata": {
    "ExecuteTime": {
     "end_time": "2019-10-02T08:27:18.422106Z",
     "start_time": "2019-10-02T08:27:18.086127Z"
    },
    "scrolled": true
   },
   "outputs": [
    {
     "name": "stdout",
     "output_type": "stream",
     "text": [
      "Label: 7\n"
     ]
    },
    {
     "data": {
      "image/png": "[encoded data removed]",
      "text/plain": [
       "<Figure size 432x288 with 2 Axes>"
      ]
     },
     "metadata": {
      "needs_background": "light"
     },
     "output_type": "display_data"
    }
   ],
   "source": [
    "print(\"Label: {}\".format(np.argmax(y_test[0])))\n",
    "\n",
    "data = x_test[0].reshape(28, 28)\n",
    "\n",
    "plt.figure()\n",
    "plt.imshow(data)\n",
    "plt.colorbar()\n",
    "plt.grid(False)"
   ]
  },
  {
   "cell_type": "markdown",
   "metadata": {},
   "source": [
    "## Training set and Validation Set\n",
    "\n",
    "The built-in MNIST download function give us a spilt of 60k images for training and 10k images for test.\n",
    "\n",
    "We split training images into the `training set (90%)` and `validation set (10%)`."
   ]
  },
  {
   "cell_type": "code",
   "execution_count": 6,
   "metadata": {
    "ExecuteTime": {
     "end_time": "2019-10-02T08:27:18.427762Z",
     "start_time": "2019-10-02T08:27:18.423696Z"
    }
   },
   "outputs": [
    {
     "name": "stdout",
     "output_type": "stream",
     "text": [
      "training set: 54000\n",
      "validation set: 6000\n"
     ]
    }
   ],
   "source": [
    "x_valid = x_train[54000:]\n",
    "y_valid = y_train[54000:]\n",
    "\n",
    "x_train = x_train[:54000]\n",
    "y_train = y_train[:54000]\n",
    "\n",
    "print(\"training set: {}\".format(x_train.shape[0]))\n",
    "print(\"validation set: {}\".format(x_valid.shape[0]))"
   ]
  },
  {
   "cell_type": "markdown",
   "metadata": {},
   "source": [
    "## Build a simple model"
   ]
  },
  {
   "cell_type": "markdown",
   "metadata": {},
   "source": [
    " ### Sequential model\n",
    " \n",
    " In keras, you assemble `layers` to build `models`. A model is (usually) a graph of layers. The most commom `type` of model is a stack of layers: [tf.keras.Sequential](https://www.tensorflow.org/api_docs/python/tf/keras/Sequential) model."
   ]
  },
  {
   "cell_type": "code",
   "execution_count": 7,
   "metadata": {
    "ExecuteTime": {
     "end_time": "2019-10-02T08:27:19.182122Z",
     "start_time": "2019-10-02T08:27:18.429246Z"
    }
   },
   "outputs": [
    {
     "name": "stdout",
     "output_type": "stream",
     "text": [
      "Model: \"sequential\"\n",
      "_________________________________________________________________\n",
      "Layer (type)                 Output Shape              Param #   \n",
      "=================================================================\n",
      "dense (Dense)                (None, 689)               540865    \n",
      "_________________________________________________________________\n",
      "dense_1 (Dense)              (None, 689)               475410    \n",
      "_________________________________________________________________\n",
      "dense_2 (Dense)              (None, 689)               475410    \n",
      "_________________________________________________________________\n",
      "dense_3 (Dense)              (None, 10)                6900      \n",
      "=================================================================\n",
      "Total params: 1,498,585\n",
      "Trainable params: 1,498,585\n",
      "Non-trainable params: 0\n",
      "_________________________________________________________________\n"
     ]
    }
   ],
   "source": [
    "# Build a simple, fully-connected network\n",
    "\n",
    "model = tf.keras.Sequential()\n",
    "\n",
    "model.add(Dense(689, activation='relu', input_shape=(28*28,)))\n",
    "model.add(Dense(689, activation='relu'))\n",
    "model.add(Dense(689, activation='relu'))\n",
    "model.add(Dense(10, activation='softmax'))\n",
    "\n",
    "model.summary()"
   ]
  },
  {
   "cell_type": "markdown",
   "metadata": {},
   "source": [
    "### Compile the model\n",
    "\n",
    "Before the model is ready for training, it needs a few more setting.\n",
    "\n",
    "These are added during the model's `compile` step:\n",
    "\n",
    "- Loss function\n",
    "- Optimizer\n",
    "- Metrics\n"
   ]
  },
  {
   "cell_type": "code",
   "execution_count": 8,
   "metadata": {
    "ExecuteTime": {
     "end_time": "2019-10-02T08:27:19.228612Z",
     "start_time": "2019-10-02T08:27:19.184369Z"
    }
   },
   "outputs": [],
   "source": [
    "model.compile(optimizer='Adam',\n",
    "              loss='categorical_crossentropy',\n",
    "              metrics=['accuracy'])"
   ]
  },
  {
   "cell_type": "markdown",
   "metadata": {},
   "source": [
    "## Train and evaluate"
   ]
  },
  {
   "cell_type": "markdown",
   "metadata": {},
   "source": [
    "### Callbacks\n",
    "\n",
    "- Tensorboard\n",
    "\n",
    "```bash\n",
    "$ tensorboard --logdir=logs\n",
    "```\n",
    "\n",
    "- EarlyStop\n",
    "    - patience: number of epochs with no improvement after which training will be stopped."
   ]
  },
  {
   "cell_type": "code",
   "execution_count": 9,
   "metadata": {
    "ExecuteTime": {
     "end_time": "2019-10-02T08:27:19.281136Z",
     "start_time": "2019-10-02T08:27:19.230288Z"
    }
   },
   "outputs": [],
   "source": [
    "# Tensorboard\n",
    "tb = tf.keras.callbacks.TensorBoard(\n",
    "    log_dir='./logs', \n",
    "    histogram_freq=0, write_graph=True, write_images=True)\n",
    "\n",
    "# EarlyStop\n",
    "earlyStopping = tf.keras.callbacks.EarlyStopping(\n",
    "    monitor='val_loss',\n",
    "    patience=3, \n",
    "    verbose=1, mode='min')\n",
    "\n",
    "callbacks = [tb, earlyStopping]"
   ]
  },
  {
   "cell_type": "markdown",
   "metadata": {},
   "source": [
    "### Start training\n",
    "\n",
    "The model is \"fit\" to the training data using the `fit` method:"
   ]
  },
  {
   "cell_type": "code",
   "execution_count": 10,
   "metadata": {
    "ExecuteTime": {
     "end_time": "2019-10-02T08:27:52.903103Z",
     "start_time": "2019-10-02T08:27:19.282951Z"
    }
   },
   "outputs": [
    {
     "name": "stdout",
     "output_type": "stream",
     "text": [
      "Train on 54000 samples, validate on 6000 samples\n",
      "Epoch 1/10\n",
      "54000/54000 [==============================] - 6s 109us/sample - loss: 0.2037 - accuracy: 0.9378 - val_loss: 0.1111 - val_accuracy: 0.9693\n",
      "Epoch 2/10\n",
      "54000/54000 [==============================] - 5s 88us/sample - loss: 0.0862 - accuracy: 0.9732 - val_loss: 0.0986 - val_accuracy: 0.9720\n",
      "Epoch 3/10\n",
      "54000/54000 [==============================] - 5s 86us/sample - loss: 0.0639 - accuracy: 0.9805 - val_loss: 0.1024 - val_accuracy: 0.9690\n",
      "Epoch 4/10\n",
      "54000/54000 [==============================] - 5s 84us/sample - loss: 0.0494 - accuracy: 0.9843 - val_loss: 0.0620 - val_accuracy: 0.9823\n",
      "Epoch 5/10\n",
      "54000/54000 [==============================] - 4s 81us/sample - loss: 0.0404 - accuracy: 0.9870 - val_loss: 0.0815 - val_accuracy: 0.9785\n",
      "Epoch 6/10\n",
      "54000/54000 [==============================] - 4s 82us/sample - loss: 0.0322 - accuracy: 0.9902 - val_loss: 0.0683 - val_accuracy: 0.9832\n",
      "Epoch 7/10\n",
      "54000/54000 [==============================] - 5s 85us/sample - loss: 0.0298 - accuracy: 0.9909 - val_loss: 0.0939 - val_accuracy: 0.9783\n",
      "Epoch 00007: early stopping\n"
     ]
    },
    {
     "data": {
      "text/plain": [
       "<tensorflow.python.keras.callbacks.History at 0x7fc7e8631668>"
      ]
     },
     "execution_count": 10,
     "metadata": {},
     "output_type": "execute_result"
    }
   ],
   "source": [
    "# model.fit(x_train, y_train, epochs=10, batch_size=64,\n",
    "#          validation_data=(x_valid, y_valid))\n",
    "\n",
    "# Training model with callbacks.\n",
    "model.fit(x_train,\n",
    "          y_train,\n",
    "          epochs=10,\n",
    "          batch_size=64,\n",
    "          callbacks=callbacks,\n",
    "          validation_data=(x_valid, y_valid))"
   ]
  },
  {
   "cell_type": "markdown",
   "metadata": {},
   "source": [
    "### Evaluate and predict"
   ]
  },
  {
   "cell_type": "code",
   "execution_count": 11,
   "metadata": {
    "ExecuteTime": {
     "end_time": "2019-10-02T08:27:56.614037Z",
     "start_time": "2019-10-02T08:27:52.905226Z"
    },
    "scrolled": true
   },
   "outputs": [
    {
     "name": "stdout",
     "output_type": "stream",
     "text": [
      "54000/1 - 3s - loss: 0.0209 - accuracy: 0.9923\n",
      "Train Acc:  0.9922963\n",
      "10000/1 - 1s - loss: 0.0465 - accuracy: 0.9765\n",
      "Test Acc:  0.9765\n"
     ]
    }
   ],
   "source": [
    "result = model.evaluate(x_train, y_train, verbose=2)\n",
    "print(\"Train Acc: \", result[1])\n",
    "\n",
    "result = model.evaluate(x_test, y_test, verbose=2)\n",
    "print(\"Test Acc: \", result[1])\n",
    "\n",
    "#result = model.predict(data)"
   ]
  },
  {
   "cell_type": "markdown",
   "metadata": {},
   "source": [
    "## Save and restore\n",
    "\n",
    "- Weight only\n",
    "- Configuration only\n",
    "- Entire model"
   ]
  },
  {
   "cell_type": "markdown",
   "metadata": {},
   "source": [
    "### Entire model\n",
    "\n",
    "The entire model can be saved to a file that contains the weight values, the model's configuration, and even optimizer's configuration. \n",
    "\n",
    "This allows you to checkpoint a model and resume training later: from the exact same state, without access to the original code."
   ]
  },
  {
   "cell_type": "code",
   "execution_count": 12,
   "metadata": {
    "ExecuteTime": {
     "end_time": "2019-10-02T08:27:57.968632Z",
     "start_time": "2019-10-02T08:27:56.616238Z"
    }
   },
   "outputs": [
    {
     "name": "stdout",
     "output_type": "stream",
     "text": [
      "10000/1 - 1s - loss: 0.0465 - accuracy: 0.9765\n",
      "Test Acc:  0.9765\n"
     ]
    }
   ],
   "source": [
    "CURR_PATH = os.getcwd()\n",
    "MODEL_DIR = os.path.join(CURR_PATH, 'models/')\n",
    "\n",
    "# create a directory for the model if it doesn't already exist\n",
    "if not os.path.exists(MODEL_DIR):\n",
    "    os.makedirs(MODEL_DIR)\n",
    "\n",
    "model.save(MODEL_DIR + 'my_nn_model.h5')\n",
    "\n",
    "# load model\n",
    "model2 = tf.keras.models.load_model(MODEL_DIR + 'my_nn_model.h5')\n",
    "result = model2.evaluate(x_test, y_test, verbose=2)\n",
    "print(\"Test Acc: \", result[1])"
   ]
  }
 ],
 "metadata": {
  "kernelspec": {
   "display_name": "Python 3",
   "language": "python",
   "name": "python3"
  },
  "language_info": {
   "codemirror_mode": {
    "name": "ipython",
    "version": 3
   },
   "file_extension": ".py",
   "mimetype": "text/x-python",
   "name": "python",
   "nbconvert_exporter": "python",
   "pygments_lexer": "ipython3",
   "version": "3.6.9"
  },
  "latex_envs": {
   "LaTeX_envs_menu_present": true,
   "autoclose": false,
   "autocomplete": true,
   "bibliofile": "biblio.bib",
   "cite_by": "apalike",
   "current_citInitial": 1,
   "eqLabelWithNumbers": true,
   "eqNumInitial": 1,
   "hotkeys": {
    "equation": "Ctrl-E",
    "itemize": "Ctrl-I"
   },
   "labels_anchors": false,
   "latex_user_defs": false,
   "report_style_numbering": false,
   "user_envs_cfg": false
  },
  "toc": {
   "base_numbering": 1,
   "nav_menu": {},
   "number_sections": true,
   "sideBar": true,
   "skip_h1_title": false,
   "title_cell": "Table of Contents",
   "title_sidebar": "Contents",
   "toc_cell": false,
   "toc_position": {
    "height": "calc(100% - 180px)",
    "left": "10px",
    "top": "150px",
    "width": "338.188px"
   },
   "toc_section_display": true,
   "toc_window_display": false
  }
 },
 "nbformat": 4,
 "nbformat_minor": 2
}
