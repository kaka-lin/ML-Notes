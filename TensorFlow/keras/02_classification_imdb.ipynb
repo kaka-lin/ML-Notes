{
 "cells": [
  {
   "cell_type": "code",
   "execution_count": 1,
   "metadata": {
    "ExecuteTime": {
     "end_time": "2019-10-02T08:32:16.135652Z",
     "start_time": "2019-10-02T08:32:14.660590Z"
    }
   },
   "outputs": [
    {
     "name": "stdout",
     "output_type": "stream",
     "text": [
      "Tensorflow version:  2.0.0\n",
      "Tensorflow Keras version:  2.2.4-tf\n"
     ]
    }
   ],
   "source": [
    "import os, sys\n",
    "import numpy as np\n",
    "import matplotlib.pyplot as plt\n",
    "import tensorflow as tf\n",
    "from tensorflow.keras import layers\n",
    "from tensorflow.keras.layers import Dense, Embedding, GlobalAveragePooling1D\n",
    "\n",
    "%matplotlib inline\n",
    "\n",
    "print(\"Tensorflow version: \", tf.__version__)\n",
    "print(\"Tensorflow Keras version: \", tf.keras.__version__)"
   ]
  },
  {
   "cell_type": "markdown",
   "metadata": {},
   "source": [
    "## Load Data\n",
    "\n",
    "- [IMDB](https://www.imdb.com/interfaces/) datasets: \n",
    "    - Contains the text of 50,000 movie reviews from the [Internet Movie Database](https://www.imdb.com/).\n",
    "    - These are split into 25,000 reviews for training and 25,000 reviews for testing. The training and testing sets are `balanced`, meaning they contain and equal number of positive and negative reviews."
   ]
  },
  {
   "cell_type": "code",
   "execution_count": 2,
   "metadata": {
    "ExecuteTime": {
     "end_time": "2019-10-02T08:32:19.965239Z",
     "start_time": "2019-10-02T08:32:16.137297Z"
    }
   },
   "outputs": [],
   "source": [
    "def load_data():\n",
    "    # The argument num_words=10000 \n",
    "    # keeps the top 10,000 most frequently occurring words in the training data. \n",
    "    # The rare words are discarded to keep the size of the data manageable.\n",
    "    imdb_dataset = tf.keras.datasets.imdb.load_data(num_words=10000)\n",
    "    (x_train, y_train), (x_test, y_test) = imdb_dataset\n",
    "    \n",
    "    return (x_train, y_train), (x_test, y_test)\n",
    "\n",
    "(x_train, y_train), (x_test, y_test) = load_data()"
   ]
  },
  {
   "cell_type": "markdown",
   "metadata": {},
   "source": [
    "## Explore the data\n",
    "\n",
    "- Each example is an array of integers representing the words of the movie review.\n",
    "- Each labele is an integer value of rither 0 or 1.\n",
    "    - 0: negative review\n",
    "    - 1: positive review\n",
    "   \n",
    "- Movie reviews may be different lengths."
   ]
  },
  {
   "cell_type": "code",
   "execution_count": 3,
   "metadata": {
    "ExecuteTime": {
     "end_time": "2019-10-02T08:32:19.973385Z",
     "start_time": "2019-10-02T08:32:19.967897Z"
    },
    "scrolled": true
   },
   "outputs": [
    {
     "name": "stdout",
     "output_type": "stream",
     "text": [
      "Training entries: 25000, labels: 25000\n",
      "First review length:  218\n",
      "Second review length:  189\n",
      "\n",
      "[1, 14, 22, 16, 43, 530, 973, 1622, 1385, 65, 458, 4468, 66, 3941, 4, 173, 36, 256, 5, 25, 100, 43, 838, 112, 50, 670, 2, 9, 35, 480, 284, 5, 150, 4, 172, 112, 167, 2, 336, 385, 39, 4, 172, 4536, 1111, 17, 546, 38, 13, 447, 4, 192, 50, 16, 6, 147, 2025, 19, 14, 22, 4, 1920, 4613, 469, 4, 22, 71, 87, 12, 16, 43, 530, 38, 76, 15, 13, 1247, 4, 22, 17, 515, 17, 12, 16, 626, 18, 2, 5, 62, 386, 12, 8, 316, 8, 106, 5, 4, 2223, 5244, 16, 480, 66, 3785, 33, 4, 130, 12, 16, 38, 619, 5, 25, 124, 51, 36, 135, 48, 25, 1415, 33, 6, 22, 12, 215, 28, 77, 52, 5, 14, 407, 16, 82, 2, 8, 4, 107, 117, 5952, 15, 256, 4, 2, 7, 3766, 5, 723, 36, 71, 43, 530, 476, 26, 400, 317, 46, 7, 4, 2, 1029, 13, 104, 88, 4, 381, 15, 297, 98, 32, 2071, 56, 26, 141, 6, 194, 7486, 18, 4, 226, 22, 21, 134, 476, 26, 480, 5, 144, 30, 5535, 18, 51, 36, 28, 224, 92, 25, 104, 4, 226, 65, 16, 38, 1334, 88, 12, 16, 283, 5, 16, 4472, 113, 103, 32, 15, 16, 5345, 19, 178, 32]\n"
     ]
    }
   ],
   "source": [
    "print(\"Training entries: {}, labels: {}\".format(len(x_train), len(y_train)))\n",
    "\n",
    "print(\"First review length: \", len(x_train[0]))\n",
    "print(\"Second review length: \", len(x_train[1]))\n",
    "\n",
    "print()\n",
    "print(x_train[0])"
   ]
  },
  {
   "cell_type": "markdown",
   "metadata": {},
   "source": [
    "## Preprocess the data: Convert the integers back to words"
   ]
  },
  {
   "cell_type": "code",
   "execution_count": null,
   "metadata": {
    "ExecuteTime": {
     "end_time": "2019-10-02T08:32:20.134115Z",
     "start_time": "2019-10-02T08:32:19.975502Z"
    },
    "scrolled": true
   },
   "outputs": [],
   "source": [
    "# A dictionary mapping words to an integer index\n",
    "word_index = tf.keras.datasets.imdb.get_word_index()\n",
    "word_index"
   ]
  },
  {
   "cell_type": "code",
   "execution_count": null,
   "metadata": {
    "ExecuteTime": {
     "end_time": "2019-10-02T08:32:20.284728Z",
     "start_time": "2019-10-02T08:32:20.135833Z"
    },
    "scrolled": true
   },
   "outputs": [],
   "source": [
    "# The first indices are reserved\n",
    "word_index = {k: (v+3) for k, v in word_index.items()}\n",
    "word_index[\"<PAD>\"] = 0\n",
    "word_index[\"<START>\"] = 1\n",
    "word_index[\"<UNK>\"] = 2  # unknown\n",
    "word_index[\"<UNUSED>\"] = 3\n",
    "\n",
    "reverse_word_index = dict([(value, key) for (key, value) in word_index.items()]) \n",
    "\n",
    "print(reverse_word_index)\n",
    "\n",
    "def decode_review(text):\n",
    "    #  dict.get(): returns a value for the given key. \n",
    "    #              If key is not available then returns default value.\n",
    "    #              default value is `None`.\n",
    "    return ' '.join([reverse_word_index.get(i, '?') for i in text])"
   ]
  },
  {
   "cell_type": "code",
   "execution_count": 6,
   "metadata": {
    "ExecuteTime": {
     "end_time": "2019-10-02T08:32:20.378696Z",
     "start_time": "2019-10-02T08:32:20.286405Z"
    },
    "scrolled": true
   },
   "outputs": [
    {
     "data": {
      "text/plain": [
       "\"<START> this film was just brilliant casting location scenery story direction everyone's really suited the part they played and you could just imagine being there robert <UNK> is an amazing actor and now the same being director <UNK> father came from the same scottish island as myself so i loved the fact there was a real connection with this film the witty remarks throughout the film were great it was just brilliant so much that i bought the film as soon as it was released for <UNK> and would recommend it to everyone to watch and the fly fishing was amazing really cried at the end it was so sad and you know what they say if you cry at a film it must have been good and this definitely was also <UNK> to the two little boy's that played the <UNK> of norman and paul they were just brilliant children are often left out of the <UNK> list i think because the stars that play them all grown up are such a big profile for the whole film but these children are amazing and should be praised for what they have done don't you think the whole story was so lovely because it was true and was someone's life after all that was shared with us all\""
      ]
     },
     "execution_count": 6,
     "metadata": {},
     "output_type": "execute_result"
    }
   ],
   "source": [
    "decode_review(x_train[0])"
   ]
  },
  {
   "cell_type": "markdown",
   "metadata": {},
   "source": [
    "## Prepare the data\n",
    "\n",
    "The reivews-the array of integers-must be converted to `tensors` before fed into the neural network.\n",
    "\n",
    "This conversion can be done a coiple ways:\n",
    "\n",
    "- One-hot encoding:\n",
    "\n",
    "    For example, the sequence [3, 5] would become a 10,000-dimensional vector that is all zeros except for indices 3 and 5, which are ones.Then, make this the first layer in our neural network-a Denselayer-that can handle floating point vector data.\n",
    "    \n",
    "    * This approch is memory intensive, though, requiring a `num_words * num_reviews` size matrix.\n",
    "\n",
    "\n",
    "- Pad the arrays:\n",
    "\n",
    "    So they all have the same length, then create an integer tensor of shape `max_length * num_reviews`.\n",
    "    \n",
    "    * We can use an embedding layer capable of handling this shape as the first layer in our neural network.\n",
    "\n",
    "\n",
    "In this tutorial, we will use the second approach.\n",
    "\n",
    "[pad_sequences](https://keras.io/preprocessing/sequence/#pad_sequences)"
   ]
  },
  {
   "cell_type": "code",
   "execution_count": 7,
   "metadata": {
    "ExecuteTime": {
     "end_time": "2019-10-02T08:32:21.297245Z",
     "start_time": "2019-10-02T08:32:20.380599Z"
    },
    "scrolled": false
   },
   "outputs": [
    {
     "name": "stdout",
     "output_type": "stream",
     "text": [
      "First review length:  256\n",
      "Second review length:  256\n",
      "(25000, 256)\n",
      "\n",
      "[   1   14   22   16   43  530  973 1622 1385   65  458 4468   66 3941\n",
      "    4  173   36  256    5   25  100   43  838  112   50  670    2    9\n",
      "   35  480  284    5  150    4  172  112  167    2  336  385   39    4\n",
      "  172 4536 1111   17  546   38   13  447    4  192   50   16    6  147\n",
      " 2025   19   14   22    4 1920 4613  469    4   22   71   87   12   16\n",
      "   43  530   38   76   15   13 1247    4   22   17  515   17   12   16\n",
      "  626   18    2    5   62  386   12    8  316    8  106    5    4 2223\n",
      " 5244   16  480   66 3785   33    4  130   12   16   38  619    5   25\n",
      "  124   51   36  135   48   25 1415   33    6   22   12  215   28   77\n",
      "   52    5   14  407   16   82    2    8    4  107  117 5952   15  256\n",
      "    4    2    7 3766    5  723   36   71   43  530  476   26  400  317\n",
      "   46    7    4    2 1029   13  104   88    4  381   15  297   98   32\n",
      " 2071   56   26  141    6  194 7486   18    4  226   22   21  134  476\n",
      "   26  480    5  144   30 5535   18   51   36   28  224   92   25  104\n",
      "    4  226   65   16   38 1334   88   12   16  283    5   16 4472  113\n",
      "  103   32   15   16 5345   19  178   32    0    0    0    0    0    0\n",
      "    0    0    0    0    0    0    0    0    0    0    0    0    0    0\n",
      "    0    0    0    0    0    0    0    0    0    0    0    0    0    0\n",
      "    0    0    0    0]\n"
     ]
    }
   ],
   "source": [
    "x_train = tf.keras.preprocessing.sequence.pad_sequences(\n",
    "    x_train,\n",
    "    value=word_index[\"<PAD>\"],\n",
    "    padding='post',\n",
    "    maxlen=256)\n",
    "\n",
    "x_test = tf.keras.preprocessing.sequence.pad_sequences(\n",
    "    x_test,\n",
    "    value=word_index[\"<PAD>\"],\n",
    "    padding='post',\n",
    "    maxlen=256)\n",
    "\n",
    "print(\"First review length: \", len(x_train[0]))\n",
    "print(\"Second review length: \", len(x_train[1]))\n",
    "print(x_train.shape)\n",
    "\n",
    "print()\n",
    "print(x_train[0])"
   ]
  },
  {
   "cell_type": "markdown",
   "metadata": {},
   "source": [
    "## Create a validation set"
   ]
  },
  {
   "cell_type": "code",
   "execution_count": 8,
   "metadata": {
    "ExecuteTime": {
     "end_time": "2019-10-02T08:32:21.304534Z",
     "start_time": "2019-10-02T08:32:21.299910Z"
    }
   },
   "outputs": [
    {
     "name": "stdout",
     "output_type": "stream",
     "text": [
      "training set: 15000\n",
      "validation set: 10000\n"
     ]
    }
   ],
   "source": [
    "x_valid = x_train[:10000]\n",
    "x_train = x_train[10000:]\n",
    "\n",
    "y_valid = y_train[:10000]\n",
    "y_train = y_train[10000:]\n",
    "\n",
    "print(\"training set: {}\".format(x_train.shape[0]))\n",
    "print(\"validation set: {}\".format(x_valid.shape[0]))"
   ]
  },
  {
   "cell_type": "markdown",
   "metadata": {},
   "source": [
    "## Build the model"
   ]
  },
  {
   "cell_type": "code",
   "execution_count": 9,
   "metadata": {
    "ExecuteTime": {
     "end_time": "2019-10-02T08:32:22.088952Z",
     "start_time": "2019-10-02T08:32:21.306423Z"
    }
   },
   "outputs": [
    {
     "name": "stdout",
     "output_type": "stream",
     "text": [
      "Model: \"sequential\"\n",
      "_________________________________________________________________\n",
      "Layer (type)                 Output Shape              Param #   \n",
      "=================================================================\n",
      "embedding (Embedding)        (None, None, 16)          160000    \n",
      "_________________________________________________________________\n",
      "global_average_pooling1d (Gl (None, 16)                0         \n",
      "_________________________________________________________________\n",
      "dense (Dense)                (None, 16)                272       \n",
      "_________________________________________________________________\n",
      "dense_1 (Dense)              (None, 1)                 17        \n",
      "=================================================================\n",
      "Total params: 160,289\n",
      "Trainable params: 160,289\n",
      "Non-trainable params: 0\n",
      "_________________________________________________________________\n"
     ]
    }
   ],
   "source": [
    "# input shape is the vocabulary count used for the movie reviews (10,000 words)\n",
    "vocab_size = 10000\n",
    "\n",
    "model = tf.keras.Sequential()\n",
    "\n",
    "model.add(Embedding(vocab_size, 16))\n",
    "model.add(GlobalAveragePooling1D())\n",
    "model.add(Dense(16, activation='relu'))\n",
    "model.add(Dense(1, activation='sigmoid'))\n",
    "\n",
    "model.summary()"
   ]
  },
  {
   "cell_type": "markdown",
   "metadata": {},
   "source": [
    "## Compile the model"
   ]
  },
  {
   "cell_type": "code",
   "execution_count": 10,
   "metadata": {
    "ExecuteTime": {
     "end_time": "2019-10-02T08:32:22.131835Z",
     "start_time": "2019-10-02T08:32:22.090590Z"
    }
   },
   "outputs": [],
   "source": [
    "model.compile(optimizer='adam',\n",
    "              loss='binary_crossentropy',\n",
    "              metrics=['acc'])"
   ]
  },
  {
   "cell_type": "markdown",
   "metadata": {},
   "source": [
    "## Train the model"
   ]
  },
  {
   "cell_type": "code",
   "execution_count": 11,
   "metadata": {
    "ExecuteTime": {
     "end_time": "2019-10-02T08:32:43.641383Z",
     "start_time": "2019-10-02T08:32:22.133160Z"
    },
    "scrolled": true
   },
   "outputs": [
    {
     "name": "stdout",
     "output_type": "stream",
     "text": [
      "Train on 15000 samples, validate on 10000 samples\n",
      "Epoch 1/40\n",
      "15000/15000 [==============================] - 1s 99us/sample - loss: 0.6919 - acc: 0.5255 - val_loss: 0.6901 - val_acc: 0.5318\n",
      "Epoch 2/40\n",
      "15000/15000 [==============================] - 1s 34us/sample - loss: 0.6867 - acc: 0.6027 - val_loss: 0.6835 - val_acc: 0.7222\n",
      "Epoch 3/40\n",
      "15000/15000 [==============================] - 1s 34us/sample - loss: 0.6768 - acc: 0.7297 - val_loss: 0.6714 - val_acc: 0.7141\n",
      "Epoch 4/40\n",
      "15000/15000 [==============================] - 0s 33us/sample - loss: 0.6581 - acc: 0.7521 - val_loss: 0.6478 - val_acc: 0.7631\n",
      "Epoch 5/40\n",
      "15000/15000 [==============================] - 1s 34us/sample - loss: 0.6267 - acc: 0.7863 - val_loss: 0.6135 - val_acc: 0.7811\n",
      "Epoch 6/40\n",
      "15000/15000 [==============================] - 1s 34us/sample - loss: 0.5840 - acc: 0.8095 - val_loss: 0.5716 - val_acc: 0.7982\n",
      "Epoch 7/40\n",
      "15000/15000 [==============================] - 1s 34us/sample - loss: 0.5350 - acc: 0.8247 - val_loss: 0.5253 - val_acc: 0.8137\n",
      "Epoch 8/40\n",
      "15000/15000 [==============================] - 1s 34us/sample - loss: 0.4841 - acc: 0.8435 - val_loss: 0.4802 - val_acc: 0.8304\n",
      "Epoch 9/40\n",
      "15000/15000 [==============================] - 1s 34us/sample - loss: 0.4368 - acc: 0.8592 - val_loss: 0.4413 - val_acc: 0.8402\n",
      "Epoch 10/40\n",
      "15000/15000 [==============================] - 1s 34us/sample - loss: 0.3956 - acc: 0.8705 - val_loss: 0.4086 - val_acc: 0.8493\n",
      "Epoch 11/40\n",
      "15000/15000 [==============================] - 1s 34us/sample - loss: 0.3607 - acc: 0.8808 - val_loss: 0.3823 - val_acc: 0.8568\n",
      "Epoch 12/40\n",
      "15000/15000 [==============================] - 1s 34us/sample - loss: 0.3322 - acc: 0.8896 - val_loss: 0.3615 - val_acc: 0.8644\n",
      "Epoch 13/40\n",
      "15000/15000 [==============================] - 1s 34us/sample - loss: 0.3083 - acc: 0.8945 - val_loss: 0.3457 - val_acc: 0.8690\n",
      "Epoch 14/40\n",
      "15000/15000 [==============================] - 1s 34us/sample - loss: 0.2880 - acc: 0.9004 - val_loss: 0.3333 - val_acc: 0.8707\n",
      "Epoch 15/40\n",
      "15000/15000 [==============================] - 1s 35us/sample - loss: 0.2706 - acc: 0.9063 - val_loss: 0.3230 - val_acc: 0.8725\n",
      "Epoch 16/40\n",
      "15000/15000 [==============================] - 1s 34us/sample - loss: 0.2553 - acc: 0.9103 - val_loss: 0.3143 - val_acc: 0.8772\n",
      "Epoch 17/40\n",
      "15000/15000 [==============================] - 0s 33us/sample - loss: 0.2413 - acc: 0.9167 - val_loss: 0.3080 - val_acc: 0.8787\n",
      "Epoch 18/40\n",
      "15000/15000 [==============================] - 1s 34us/sample - loss: 0.2289 - acc: 0.9211 - val_loss: 0.3018 - val_acc: 0.8807\n",
      "Epoch 19/40\n",
      "15000/15000 [==============================] - 1s 34us/sample - loss: 0.2175 - acc: 0.9248 - val_loss: 0.2978 - val_acc: 0.8824\n",
      "Epoch 20/40\n",
      "15000/15000 [==============================] - 1s 33us/sample - loss: 0.2069 - acc: 0.9285 - val_loss: 0.2938 - val_acc: 0.8830\n",
      "Epoch 21/40\n",
      "15000/15000 [==============================] - 1s 34us/sample - loss: 0.1972 - acc: 0.9326 - val_loss: 0.2916 - val_acc: 0.8835\n",
      "Epoch 22/40\n",
      "15000/15000 [==============================] - 1s 34us/sample - loss: 0.1882 - acc: 0.9365 - val_loss: 0.2892 - val_acc: 0.8839\n",
      "Epoch 23/40\n",
      "15000/15000 [==============================] - 1s 34us/sample - loss: 0.1797 - acc: 0.9396 - val_loss: 0.2877 - val_acc: 0.8843\n",
      "Epoch 24/40\n",
      "15000/15000 [==============================] - 1s 34us/sample - loss: 0.1720 - acc: 0.9433 - val_loss: 0.2866 - val_acc: 0.8840\n",
      "Epoch 25/40\n",
      "15000/15000 [==============================] - 0s 33us/sample - loss: 0.1645 - acc: 0.9477 - val_loss: 0.2858 - val_acc: 0.8848\n",
      "Epoch 26/40\n",
      "15000/15000 [==============================] - 0s 33us/sample - loss: 0.1582 - acc: 0.9498 - val_loss: 0.2860 - val_acc: 0.8849\n",
      "Epoch 27/40\n",
      "15000/15000 [==============================] - 1s 34us/sample - loss: 0.1509 - acc: 0.9537 - val_loss: 0.2877 - val_acc: 0.8836\n",
      "Epoch 28/40\n",
      "15000/15000 [==============================] - 1s 34us/sample - loss: 0.1444 - acc: 0.9559 - val_loss: 0.2876 - val_acc: 0.8855\n",
      "Epoch 29/40\n",
      "15000/15000 [==============================] - 1s 34us/sample - loss: 0.1386 - acc: 0.9587 - val_loss: 0.2880 - val_acc: 0.8855\n",
      "Epoch 30/40\n",
      "15000/15000 [==============================] - 1s 34us/sample - loss: 0.1327 - acc: 0.9605 - val_loss: 0.2910 - val_acc: 0.8853\n",
      "Epoch 31/40\n",
      "15000/15000 [==============================] - 1s 34us/sample - loss: 0.1275 - acc: 0.9625 - val_loss: 0.2918 - val_acc: 0.8856\n",
      "Epoch 32/40\n",
      "15000/15000 [==============================] - 1s 34us/sample - loss: 0.1222 - acc: 0.9647 - val_loss: 0.2952 - val_acc: 0.8858\n",
      "Epoch 33/40\n",
      "15000/15000 [==============================] - 1s 34us/sample - loss: 0.1184 - acc: 0.9661 - val_loss: 0.2954 - val_acc: 0.8862\n",
      "Epoch 34/40\n",
      "15000/15000 [==============================] - 1s 34us/sample - loss: 0.1126 - acc: 0.9688 - val_loss: 0.2979 - val_acc: 0.8853\n",
      "Epoch 35/40\n",
      "15000/15000 [==============================] - 1s 36us/sample - loss: 0.1081 - acc: 0.9699 - val_loss: 0.3011 - val_acc: 0.8839\n",
      "Epoch 36/40\n",
      "15000/15000 [==============================] - 1s 36us/sample - loss: 0.1040 - acc: 0.9710 - val_loss: 0.3048 - val_acc: 0.8839\n",
      "Epoch 37/40\n",
      "15000/15000 [==============================] - 1s 35us/sample - loss: 0.0998 - acc: 0.9727 - val_loss: 0.3062 - val_acc: 0.8836\n",
      "Epoch 38/40\n",
      "15000/15000 [==============================] - 1s 34us/sample - loss: 0.0957 - acc: 0.9746 - val_loss: 0.3097 - val_acc: 0.8830\n",
      "Epoch 39/40\n",
      "15000/15000 [==============================] - 1s 34us/sample - loss: 0.0920 - acc: 0.9764 - val_loss: 0.3137 - val_acc: 0.8822\n",
      "Epoch 40/40\n",
      "15000/15000 [==============================] - 1s 34us/sample - loss: 0.0885 - acc: 0.9769 - val_loss: 0.3176 - val_acc: 0.8809\n"
     ]
    }
   ],
   "source": [
    "history = model.fit(x_train,\n",
    "                    y_train,\n",
    "                    epochs=40,\n",
    "                    batch_size=512,\n",
    "                    validation_data=(x_valid, y_valid),\n",
    "                    verbose=1)"
   ]
  },
  {
   "cell_type": "markdown",
   "metadata": {},
   "source": [
    "## Evaluate the model"
   ]
  },
  {
   "cell_type": "code",
   "execution_count": 12,
   "metadata": {
    "ExecuteTime": {
     "end_time": "2019-10-02T08:32:45.137899Z",
     "start_time": "2019-10-02T08:32:43.643181Z"
    }
   },
   "outputs": [
    {
     "name": "stdout",
     "output_type": "stream",
     "text": [
      "25000/1 - 1s - loss: 0.3205 - acc: 0.8699\n",
      "Test Acc:  0.86988\n"
     ]
    }
   ],
   "source": [
    "results = model.evaluate(x_test, y_test, verbose=2)\n",
    "print(\"Test Acc: \", results[1])"
   ]
  },
  {
   "cell_type": "markdown",
   "metadata": {},
   "source": [
    "## Create a graph of accuracy and loss over time\n",
    "\n",
    "`model.fit()` returns a History object that contains a dictionary with everything that happened during training:"
   ]
  },
  {
   "cell_type": "code",
   "execution_count": 13,
   "metadata": {
    "ExecuteTime": {
     "end_time": "2019-10-02T08:32:45.143961Z",
     "start_time": "2019-10-02T08:32:45.139844Z"
    }
   },
   "outputs": [
    {
     "data": {
      "text/plain": [
       "dict_keys(['loss', 'acc', 'val_loss', 'val_acc'])"
      ]
     },
     "execution_count": 13,
     "metadata": {},
     "output_type": "execute_result"
    }
   ],
   "source": [
    "history_dict = history.history\n",
    "history_dict.keys()"
   ]
  },
  {
   "cell_type": "code",
   "execution_count": 14,
   "metadata": {
    "ExecuteTime": {
     "end_time": "2019-10-02T08:32:45.901573Z",
     "start_time": "2019-10-02T08:32:45.145565Z"
    }
   },
   "outputs": [
    {
     "data": {
      "image/png": "[encoded data removed]",
      "text/plain": [
       "<Figure size 720x720 with 2 Axes>"
      ]
     },
     "metadata": {
      "needs_background": "light"
     },
     "output_type": "display_data"
    }
   ],
   "source": [
    "acc = history_dict['acc']\n",
    "val_acc = history_dict['val_acc']\n",
    "loss = history_dict['loss']\n",
    "val_loss = history_dict['val_loss']\n",
    "\n",
    "epochs = range(1, len(acc) + 1)\n",
    "\n",
    "fig = plt.figure(figsize=(10, 10))\n",
    "plt.subplot(2,1,1)\n",
    "plt.plot(epochs, loss, 'bo', label='Training loss')\n",
    "plt.plot(epochs, val_loss, 'b', label='Validation loss')\n",
    "plt.title('Training and validation loss')\n",
    "plt.xlabel('Epochs')\n",
    "plt.ylabel('Loss')\n",
    "plt.legend()\n",
    "plt.tight_layout()\n",
    "\n",
    "plt.subplot(2,1,2)\n",
    "plt.plot(epochs, acc, 'bo', label='Training acc')\n",
    "plt.plot(epochs, val_acc, 'b', label='Validation acc')\n",
    "plt.title('Training and validation accuracy')\n",
    "plt.xlabel('Epochs')\n",
    "plt.ylabel('Accuracy')\n",
    "plt.legend()\n",
    "plt.tight_layout()"
   ]
  }
 ],
 "metadata": {
  "kernelspec": {
   "display_name": "Python 3",
   "language": "python",
   "name": "python3"
  },
  "language_info": {
   "codemirror_mode": {
    "name": "ipython",
    "version": 3
   },
   "file_extension": ".py",
   "mimetype": "text/x-python",
   "name": "python",
   "nbconvert_exporter": "python",
   "pygments_lexer": "ipython3",
   "version": "3.6.9"
  },
  "latex_envs": {
   "LaTeX_envs_menu_present": true,
   "autoclose": false,
   "autocomplete": true,
   "bibliofile": "biblio.bib",
   "cite_by": "apalike",
   "current_citInitial": 1,
   "eqLabelWithNumbers": true,
   "eqNumInitial": 1,
   "hotkeys": {
    "equation": "Ctrl-E",
    "itemize": "Ctrl-I"
   },
   "labels_anchors": false,
   "latex_user_defs": false,
   "report_style_numbering": false,
   "user_envs_cfg": false
  },
  "toc": {
   "base_numbering": 1,
   "nav_menu": {},
   "number_sections": true,
   "sideBar": true,
   "skip_h1_title": false,
   "title_cell": "Table of Contents",
   "title_sidebar": "Contents",
   "toc_cell": false,
   "toc_position": {},
   "toc_section_display": true,
   "toc_window_display": true
  }
 },
 "nbformat": 4,
 "nbformat_minor": 2
}
