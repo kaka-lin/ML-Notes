{
 "cells": [
  {
   "cell_type": "markdown",
   "metadata": {},
   "source": [
    "# Tensorflow Datasets\n",
    "\n",
    "Tensorflow Datasets provides a collection of datasets ready to use with Tensorflow.\n",
    "\n",
    "It handles downloading and preparing the data and constructing a [tf.data.Datasets](https://www.tensorflow.org/api_docs/python/tf/data/Dataset)."
   ]
  },
  {
   "cell_type": "code",
   "execution_count": null,
   "metadata": {
    "ExecuteTime": {
     "end_time": "2019-10-02T08:38:58.035889Z",
     "start_time": "2019-10-02T08:38:57.010719Z"
    },
    "scrolled": true
   },
   "outputs": [],
   "source": [
    "!pip install tensorflow-datasets"
   ]
  },
  {
   "cell_type": "code",
   "execution_count": 2,
   "metadata": {
    "ExecuteTime": {
     "end_time": "2019-10-02T08:38:59.760586Z",
     "start_time": "2019-10-02T08:38:58.042734Z"
    }
   },
   "outputs": [
    {
     "data": {
      "text/plain": [
       "'2.0.0'"
      ]
     },
     "execution_count": 2,
     "metadata": {},
     "output_type": "execute_result"
    }
   ],
   "source": [
    "import numpy as np\n",
    "import matplotlib.pyplot as plt\n",
    "import tensorflow as tf\n",
    "import tensorflow_datasets as tfds\n",
    "\n",
    "%matplotlib inline\n",
    "\n",
    "tf.__version__"
   ]
  },
  {
   "cell_type": "markdown",
   "metadata": {},
   "source": [
    "## List the avaliable datasets"
   ]
  },
  {
   "cell_type": "code",
   "execution_count": null,
   "metadata": {
    "ExecuteTime": {
     "end_time": "2019-10-02T08:38:59.767279Z",
     "start_time": "2019-10-02T08:38:59.762715Z"
    },
    "scrolled": true
   },
   "outputs": [],
   "source": [
    "# See available datasets\n",
    "tfds.list_builders()"
   ]
  },
  {
   "cell_type": "markdown",
   "metadata": {},
   "source": [
    "## High-Level API: tf.load\n",
    "\n",
    "[tf.load](https://www.tensorflow.org/datasets/api_docs/python/tfds/load) is a convenience method that's the simplest way to build and load [tf.data.Dataset](https://www.tensorflow.org/api_docs/python/tf/data/Dataset)."
   ]
  },
  {
   "cell_type": "code",
   "execution_count": 4,
   "metadata": {
    "ExecuteTime": {
     "end_time": "2019-10-02T08:39:00.314554Z",
     "start_time": "2019-10-02T08:38:59.769252Z"
    }
   },
   "outputs": [
    {
     "data": {
      "text/plain": [
       "<_OptionsDataset shapes: {image: (28, 28, 1), label: ()}, types: {image: tf.uint8, label: tf.int64}>"
      ]
     },
     "execution_count": 4,
     "metadata": {},
     "output_type": "execute_result"
    }
   ],
   "source": [
    "# Load a given dataset by name, along with the DatasetInfo\n",
    "mnist_data, info = tfds.load(\"mnist\", with_info=True, shuffle_files=True)\n",
    "# specify the version of the datasets\n",
    "#mnist = tfds.load(\"mnist:1.*.*\")\n",
    "\n",
    "mnist_train, mnist_test = mnist_data['train'], mnist_data['test']\n",
    "assert isinstance(mnist_train, tf.data.Dataset)\n",
    "assert info.features['label'].num_classes == 10\n",
    "assert info.splits['train'].num_examples == 60000\n",
    "\n",
    "mnist_train"
   ]
  },
  {
   "cell_type": "markdown",
   "metadata": {},
   "source": [
    "## Feature dictionaries\n",
    "\n",
    "All `tfds` datasets contain feature dictionaries mapping feature names to Tensor values.\n",
    "\n",
    "A typical dataset, like `MNIST`, will have 2 keys: `\"image\"` and `\"label\"`."
   ]
  },
  {
   "cell_type": "code",
   "execution_count": 5,
   "metadata": {
    "ExecuteTime": {
     "end_time": "2019-10-02T08:39:00.587992Z",
     "start_time": "2019-10-02T08:39:00.315964Z"
    }
   },
   "outputs": [
    {
     "name": "stdout",
     "output_type": "stream",
     "text": [
      "(28, 28, 1)\n",
      "Label: 9\n"
     ]
    },
    {
     "data": {
      "text/plain": [
       "<matplotlib.image.AxesImage at 0x7fca681dfc88>"
      ]
     },
     "execution_count": 5,
     "metadata": {},
     "output_type": "execute_result"
    },
    {
     "data": {
      "image/png": "[encoded data removed]",
      "text/plain": [
       "<Figure size 432x288 with 1 Axes>"
      ]
     },
     "metadata": {
      "needs_background": "light"
     },
     "output_type": "display_data"
    }
   ],
   "source": [
    "mnist_example, = mnist_train.take(1)\n",
    "image, label = mnist_example[\"image\"], mnist_example[\"label\"]\n",
    "\n",
    "# Tensor to numpy: tensor.numpy()\n",
    "print(image.numpy().shape)\n",
    "\n",
    "print(\"Label: {}\".format(label.numpy()))\n",
    "plt.imshow(image.numpy()[:, :, 0].astype(np.float32), cmap='gray')"
   ]
  },
  {
   "cell_type": "markdown",
   "metadata": {},
   "source": [
    "## Input pipelines\n",
    "\n",
    "Once you have a [tf.data.Dataset](https://www.tensorflow.org/api_docs/python/tf/data/Dataset) object, it's simple to define the rest of an input pipeline suitable for model training by using the [tf.data API](https://www.tensorflow.org/guide/datasets).\n",
    "\n",
    "Here we'll repeat the dataset so that we have an infinite stream of examples, shuffle, and create batches of 32.\n",
    "\n",
    "- shuffle(buffer_size): \n",
    "\n",
    "    If your dataset contains 10,000 elements but buffer_size is set to 1,000, then shuffle will initially select a random element from only the first 1,000 elements in the buffer. Once an element is selected, its space in the buffer is replaced by the next (i.e. 1,001-st) element, maintaining the 1,000 element buffer.\n"
   ]
  },
  {
   "cell_type": "code",
   "execution_count": 6,
   "metadata": {
    "ExecuteTime": {
     "end_time": "2019-10-02T08:39:00.595162Z",
     "start_time": "2019-10-02T08:39:00.589856Z"
    }
   },
   "outputs": [],
   "source": [
    "mnist_train = mnist_train.repeat().shuffle(1024).batch(32)\n",
    "\n",
    "# prefetch will enable the input pipeline to asynchronously fetch batches while \n",
    "# your model is training.\n",
    "mnist_train = mnist_train.prefetch(tf.data.experimental.AUTOTUNE)\n",
    "\n",
    "# Now you could loop over batches of the dataset and train\n",
    "# for batch in mnist_train:\n",
    "#   ..."
   ]
  },
  {
   "cell_type": "markdown",
   "metadata": {},
   "source": [
    "## DatasetBuilder and DatasetInfo"
   ]
  },
  {
   "cell_type": "markdown",
   "metadata": {},
   "source": [
    "### DatasetBuilder\n",
    "\n",
    "[tf.load](https://www.tensorflow.org/datasets/api_docs/python/tfds/load) is really a thin convenience wrapper around `DatasetBuilder`."
   ]
  },
  {
   "cell_type": "code",
   "execution_count": 7,
   "metadata": {
    "ExecuteTime": {
     "end_time": "2019-10-02T08:39:00.784362Z",
     "start_time": "2019-10-02T08:39:00.597074Z"
    }
   },
   "outputs": [
    {
     "name": "stderr",
     "output_type": "stream",
     "text": [
      "WARNING: Logging before flag parsing goes to stderr.\n",
      "W1002 16:39:00.687273 140509647685440 dataset_builder.py:439] Warning: Setting shuffle_files=True because split=TRAIN and shuffle_files=None. This behavior will be deprecated on 2019-08-06, at which point shuffle_files=False will be the default for all splits.\n"
     ]
    },
    {
     "data": {
      "text/plain": [
       "<_OptionsDataset shapes: {image: (28, 28, 1), label: ()}, types: {image: tf.uint8, label: tf.int64}>"
      ]
     },
     "execution_count": 7,
     "metadata": {},
     "output_type": "execute_result"
    }
   ],
   "source": [
    "mnist_builder = tfds.builder(\"mnist\")\n",
    "mnist_builder.download_and_prepare()\n",
    "mnist_train = mnist_builder.as_dataset(split=tfds.Split.TRAIN)\n",
    "mnist_train"
   ]
  },
  {
   "cell_type": "markdown",
   "metadata": {},
   "source": [
    "### DatasetInfo\n",
    "\n",
    "After generation, the builder contains useful information on the dataset."
   ]
  },
  {
   "cell_type": "code",
   "execution_count": 8,
   "metadata": {
    "ExecuteTime": {
     "end_time": "2019-10-02T08:39:00.811799Z",
     "start_time": "2019-10-02T08:39:00.786617Z"
    }
   },
   "outputs": [
    {
     "name": "stdout",
     "output_type": "stream",
     "text": [
      "tfds.core.DatasetInfo(\n",
      "    name='mnist',\n",
      "    version=1.0.0,\n",
      "    description='The MNIST database of handwritten digits.',\n",
      "    urls=['https://storage.googleapis.com/cvdf-datasets/mnist/'],\n",
      "    features=FeaturesDict({\n",
      "        'image': Image(shape=(28, 28, 1), dtype=tf.uint8),\n",
      "        'label': ClassLabel(shape=(), dtype=tf.int64, num_classes=10),\n",
      "    }),\n",
      "    total_num_examples=70000,\n",
      "    splits={\n",
      "        'test': 10000,\n",
      "        'train': 60000,\n",
      "    },\n",
      "    supervised_keys=('image', 'label'),\n",
      "    citation=\"\"\"@article{lecun2010mnist,\n",
      "      title={MNIST handwritten digit database},\n",
      "      author={LeCun, Yann and Cortes, Corinna and Burges, CJ},\n",
      "      journal={ATT Labs [Online]. Available: http://yann. lecun. com/exdb/mnist},\n",
      "      volume={2},\n",
      "      year={2010}\n",
      "    }\"\"\",\n",
      "    redistribution_info=,\n",
      ")\n",
      "\n",
      "--------------------------------------------------------------------------\n",
      "FeaturesDict({\n",
      "    'image': Image(shape=(28, 28, 1), dtype=tf.uint8),\n",
      "    'label': ClassLabel(shape=(), dtype=tf.int64, num_classes=10),\n",
      "})\n",
      "10\n",
      "['0', '1', '2', '3', '4', '5', '6', '7', '8', '9']\n"
     ]
    }
   ],
   "source": [
    "info = mnist_builder.info\n",
    "print(info)\n",
    "print(\"--------------------------------------------------------------------------\")\n",
    "print(info.features)\n",
    "print(info.features[\"label\"].num_classes)\n",
    "print(info.features[\"label\"].names)"
   ]
  }
 ],
 "metadata": {
  "kernelspec": {
   "display_name": "Python 3",
   "language": "python",
   "name": "python3"
  },
  "language_info": {
   "codemirror_mode": {
    "name": "ipython",
    "version": 3
   },
   "file_extension": ".py",
   "mimetype": "text/x-python",
   "name": "python",
   "nbconvert_exporter": "python",
   "pygments_lexer": "ipython3",
   "version": "3.6.9"
  },
  "latex_envs": {
   "LaTeX_envs_menu_present": true,
   "autoclose": false,
   "autocomplete": true,
   "bibliofile": "biblio.bib",
   "cite_by": "apalike",
   "current_citInitial": 1,
   "eqLabelWithNumbers": true,
   "eqNumInitial": 1,
   "hotkeys": {
    "equation": "Ctrl-E",
    "itemize": "Ctrl-I"
   },
   "labels_anchors": false,
   "latex_user_defs": false,
   "report_style_numbering": false,
   "user_envs_cfg": false
  },
  "toc": {
   "base_numbering": 1,
   "nav_menu": {},
   "number_sections": true,
   "sideBar": true,
   "skip_h1_title": false,
   "title_cell": "Table of Contents",
   "title_sidebar": "Contents",
   "toc_cell": false,
   "toc_position": {},
   "toc_section_display": true,
   "toc_window_display": true
  }
 },
 "nbformat": 4,
 "nbformat_minor": 2
}
